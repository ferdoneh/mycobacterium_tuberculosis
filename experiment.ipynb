{
  "nbformat": 4,
  "nbformat_minor": 0,
  "metadata": {
    "colab": {
      "provenance": [],
      "collapsed_sections": [
        "D1fuoQ4aFP8V",
        "twTqPr6wxiyZ",
        "jYOdNcdqEmFS",
        "tAOL46e_Ez1v",
        "LORQB1VgFD3C",
        "yYTFAjVmFSE8",
        "MGinS7flFUlu",
        "9LgW-jBLFdYK",
        "kWbTeGZIGGh7",
        "RCGPdmfiGUqq",
        "4m5sDQXcGoYy",
        "j_aAqA0qGyC5",
        "8wA7iaAvG-yr",
        "7_mLS1bgHsQU",
        "c7WkGrmlH-zY",
        "Bm12FU3TIl84",
        "XRmS0n80JNHO",
        "MFdhRiFwJgqe",
        "6Ex9FaBTJ6ip",
        "9wVMjo1KKL4h"
      ],
      "authorship_tag": "ABX9TyOd3v9eng2LqFaTMGNbyHkH",
      "include_colab_link": true
    },
    "kernelspec": {
      "name": "python3",
      "display_name": "Python 3"
    },
    "language_info": {
      "name": "python"
    }
  },
  "cells": [
    {
      "cell_type": "markdown",
      "metadata": {
        "id": "view-in-github",
        "colab_type": "text"
      },
      "source": [
        "<a href=\"https://colab.research.google.com/github/ferdoneh/mycobacterium_tuberculosis/blob/main/experiment.ipynb\" target=\"_parent\"><img src=\"https://colab.research.google.com/assets/colab-badge.svg\" alt=\"Open In Colab\"/></a>"
      ]
    },
    {
      "cell_type": "markdown",
      "source": [
        "# **Data Exploration**"
      ],
      "metadata": {
        "id": "Z63mVVusKpCQ"
      }
    },
    {
      "cell_type": "code",
      "execution_count": 1,
      "metadata": {
        "colab": {
          "base_uri": "https://localhost:8080/"
        },
        "id": "wIrso2Hq-EwV",
        "outputId": "92b08eab-44ae-4ccc-a4f6-bf19f63abcf8"
      },
      "outputs": [
        {
          "output_type": "stream",
          "name": "stdout",
          "text": [
            "Looking in indexes: https://pypi.org/simple, https://us-python.pkg.dev/colab-wheels/public/simple/\n",
            "\u001b[31mERROR: Could not find a version that satisfies the requirement sklearn.model_selection (from versions: none)\u001b[0m\n",
            "\u001b[31mERROR: No matching distribution found for sklearn.model_selection\u001b[0m\n",
            "Looking in indexes: https://pypi.org/simple, https://us-python.pkg.dev/colab-wheels/public/simple/\n",
            "Collecting fingertips_py\n",
            "  Downloading fingertips_py-0.2.2.tar.gz (7.5 kB)\n",
            "Requirement already satisfied: pandas>=0.18.1 in /usr/local/lib/python3.8/dist-packages (from fingertips_py) (1.3.5)\n",
            "Requirement already satisfied: requests in /usr/local/lib/python3.8/dist-packages (from fingertips_py) (2.23.0)\n",
            "Requirement already satisfied: numpy>=1.17.3 in /usr/local/lib/python3.8/dist-packages (from pandas>=0.18.1->fingertips_py) (1.21.6)\n",
            "Requirement already satisfied: pytz>=2017.3 in /usr/local/lib/python3.8/dist-packages (from pandas>=0.18.1->fingertips_py) (2022.6)\n",
            "Requirement already satisfied: python-dateutil>=2.7.3 in /usr/local/lib/python3.8/dist-packages (from pandas>=0.18.1->fingertips_py) (2.8.2)\n",
            "Requirement already satisfied: six>=1.5 in /usr/local/lib/python3.8/dist-packages (from python-dateutil>=2.7.3->pandas>=0.18.1->fingertips_py) (1.15.0)\n",
            "Requirement already satisfied: urllib3!=1.25.0,!=1.25.1,<1.26,>=1.21.1 in /usr/local/lib/python3.8/dist-packages (from requests->fingertips_py) (1.24.3)\n",
            "Requirement already satisfied: chardet<4,>=3.0.2 in /usr/local/lib/python3.8/dist-packages (from requests->fingertips_py) (3.0.4)\n",
            "Requirement already satisfied: idna<3,>=2.5 in /usr/local/lib/python3.8/dist-packages (from requests->fingertips_py) (2.10)\n",
            "Requirement already satisfied: certifi>=2017.4.17 in /usr/local/lib/python3.8/dist-packages (from requests->fingertips_py) (2022.9.24)\n",
            "Building wheels for collected packages: fingertips-py\n",
            "  Building wheel for fingertips-py (setup.py) ... \u001b[?25l\u001b[?25hdone\n",
            "  Created wheel for fingertips-py: filename=fingertips_py-0.2.2-py3-none-any.whl size=9774 sha256=53694ed66ae462ac91e0bf113495761127e4610026f719e8ff3c9b8014ec614d\n",
            "  Stored in directory: /root/.cache/pip/wheels/40/1c/9f/c6d113478bcb197541e469281d9bdebfe3975f447d66072f15\n",
            "Successfully built fingertips-py\n",
            "Installing collected packages: fingertips-py\n",
            "Successfully installed fingertips-py-0.2.2\n"
          ]
        }
      ],
      "source": [
        "import pandas as pd\n",
        "! pip install sklearn.model_selection \n",
        "import numpy as np\n",
        "import re\n",
        "import datetime\n",
        "from math import sqrt\n",
        "\n",
        "import cufflinks as cf\n",
        "import plotly.graph_objs as go\n",
        "! pip install fingertips_py\n",
        "\n",
        "from sklearn.model_selection import train_test_split \n",
        "from sklearn import preprocessing\n",
        "import csv\n",
        "import chardet\n",
        "import seaborn as sns\n",
        "import matplotlib.pyplot as plt\n",
        "from sklearn.cluster import KMeans\n",
        "from collections import Counter\n",
        "from sklearn.feature_selection import RFE\n",
        "from sklearn.linear_model import LogisticRegression"
      ]
    },
    {
      "cell_type": "code",
      "source": [
        "! pip install encoding"
      ],
      "metadata": {
        "colab": {
          "base_uri": "https://localhost:8080/"
        },
        "id": "KWQKqV8SfsxV",
        "outputId": "5e7e387a-cd62-41ac-9666-6dc527958b00"
      },
      "execution_count": 2,
      "outputs": [
        {
          "output_type": "stream",
          "name": "stdout",
          "text": [
            "Looking in indexes: https://pypi.org/simple, https://us-python.pkg.dev/colab-wheels/public/simple/\n",
            "\u001b[31mERROR: Could not find a version that satisfies the requirement encoding (from versions: none)\u001b[0m\n",
            "\u001b[31mERROR: No matching distribution found for encoding\u001b[0m\n"
          ]
        }
      ]
    },
    {
      "cell_type": "code",
      "source": [
        "import fingertips_py as ftp"
      ],
      "metadata": {
        "id": "52Kw2ljVZLYa"
      },
      "execution_count": 3,
      "outputs": []
    },
    {
      "cell_type": "code",
      "source": [
        "!help(*fingertips_py function name*)"
      ],
      "metadata": {
        "colab": {
          "base_uri": "https://localhost:8080/"
        },
        "id": "1TDcCi-laX5C",
        "outputId": "82195b14-7a4a-41b9-efd2-227c32ca73ea"
      },
      "execution_count": 4,
      "outputs": [
        {
          "output_type": "stream",
          "name": "stdout",
          "text": [
            "/bin/bash: -c: line 0: syntax error near unexpected token `*fingertips_py'\n",
            "/bin/bash: -c: line 0: `help(*fingertips_py function name*)'\n"
          ]
        }
      ]
    },
    {
      "cell_type": "code",
      "source": [
        "!git clone https://github.com/ferdoneh/mycobacterium_tuberculosis.git\n",
        "# df = pd.read_excel(\"/content/mycobacterium_tuberculosis/60pages.xlsx\")\n",
        "df1 = pd.read_csv(\"/content/mycobacterium_tuberculosis/BVBRC_genome.csv\")\n",
        "df2 = pd.read_csv(\"/content/mycobacterium_tuberculosis/BVBRC_genome_amr.csv\")"
      ],
      "metadata": {
        "id": "OnO8l_OvbzFQ",
        "colab": {
          "base_uri": "https://localhost:8080/"
        },
        "outputId": "e73665d2-7676-4abe-fcfc-25d9142ec90d"
      },
      "execution_count": 5,
      "outputs": [
        {
          "output_type": "stream",
          "name": "stdout",
          "text": [
            "Cloning into 'mycobacterium_tuberculosis'...\n",
            "remote: Enumerating objects: 23, done.\u001b[K\n",
            "remote: Counting objects: 100% (23/23), done.\u001b[K\n",
            "remote: Compressing objects: 100% (21/21), done.\u001b[K\n",
            "remote: Total 23 (delta 7), reused 10 (delta 1), pack-reused 0\u001b[K\n",
            "Unpacking objects: 100% (23/23), done.\n"
          ]
        },
        {
          "output_type": "stream",
          "name": "stderr",
          "text": [
            "/usr/local/lib/python3.8/dist-packages/IPython/core/interactiveshell.py:3326: DtypeWarning:\n",
            "\n",
            "Columns (16,18,19,31,45,73,81) have mixed types.Specify dtype option on import or set low_memory=False.\n",
            "\n"
          ]
        }
      ]
    },
    {
      "cell_type": "code",
      "source": [
        "df1.head()"
      ],
      "metadata": {
        "colab": {
          "base_uri": "https://localhost:8080/",
          "height": 577
        },
        "id": "hiAYhDq7oH5T",
        "outputId": "b4ecaa4f-cebc-4148-8e66-7ef9aa7fd301"
      },
      "execution_count": 6,
      "outputs": [
        {
          "output_type": "execute_result",
          "data": {
            "text/plain": [
              "    Genome ID                                        Genome Name  Other Names  \\\n",
              "0  1041522.30                Mycobacterium colombiense CECT 3035          NaN   \n",
              "1  1087469.30  Mycobacterium abscessus subsp. bolletii INCQS ...          NaN   \n",
              "2   110505.50       Mycobacterium heckeshornense strain CTRI-134          NaN   \n",
              "3   115862.23  Mycobacterium tuberculosis variant caprae stra...          NaN   \n",
              "4   115862.25  Mycobacterium tuberculosis variant caprae stra...          NaN   \n",
              "\n",
              "   NCBI Taxon ID                                  Taxon Lineage IDs  \\\n",
              "0        1041522  131567;2;1783272;201174;1760;85007;1762;1763;1...   \n",
              "1        1087469  131567;2;1783272;201174;1760;85007;1762;670516...   \n",
              "2         110505  131567;2;1783272;201174;1760;85007;1762;1763;1...   \n",
              "3         115862  131567;2;1783272;201174;1760;85007;1762;1763;7...   \n",
              "4         115862  131567;2;1783272;201174;1760;85007;1762;1763;7...   \n",
              "\n",
              "                                 Taxon Lineage Names Superkingdom   Kingdom  \\\n",
              "0  cellular organisms;Bacteria;Terrabacteria grou...     Bacteria  Bacteria   \n",
              "1  cellular organisms;Bacteria;Terrabacteria grou...     Bacteria  Bacteria   \n",
              "2  cellular organisms;Bacteria;Terrabacteria grou...     Bacteria  Bacteria   \n",
              "3  cellular organisms;Bacteria;Terrabacteria grou...     Bacteria  Bacteria   \n",
              "4  cellular organisms;Bacteria;Terrabacteria grou...     Bacteria  Bacteria   \n",
              "\n",
              "           Phylum          Class  ... Host Age      Host Health Host Group  \\\n",
              "0  Actinobacteria  Actinomycetia  ...      NaN     HIV positive      Human   \n",
              "1  Actinobacteria  Actinomycetia  ...      NaN              NaN      Human   \n",
              "2  Actinobacteria  Actinomycetia  ...      NaN  mycobacteriosis      Human   \n",
              "3  Actinobacteria  Actinomycetia  ...      NaN     Tuberculosis      Human   \n",
              "4  Actinobacteria  Actinomycetia  ...      NaN     Tuberculosis      Human   \n",
              "\n",
              "  Lab Host Passage Other Clinical  \\\n",
              "0      NaN     NaN            NaN   \n",
              "1      NaN     NaN            NaN   \n",
              "2      NaN     NaN            NaN   \n",
              "3      NaN     NaN            NaN   \n",
              "4      NaN     NaN            NaN   \n",
              "\n",
              "                                 Additional Metadata  \\\n",
              "0                                                NaN   \n",
              "1                                                NaN   \n",
              "2  collected_by:Central Tuberculosis Research Ins...   \n",
              "3                       collected_by:D van Soolingen   \n",
              "4                                                NaN   \n",
              "\n",
              "                                            Comments  \\\n",
              "0  Mycobacterium colombiense CECT 3035 is the typ...   \n",
              "1  This organism causes chronic lung infection, s...   \n",
              "2  WGS study of clinically relevant Mycobacterium...   \n",
              "3  Mycobacterium caprae, strain NLA000201913 was ...   \n",
              "4  The aim of this study is to sequence and analy...   \n",
              "\n",
              "              Date Inserted             Date Modified  \n",
              "0  2014-12-08T22:12:07.364Z  2015-03-16T03:17:09.594Z  \n",
              "1  2016-01-17T15:30:26.157Z  2016-01-17T15:30:26.157Z  \n",
              "2  2017-01-16T03:13:04.037Z  2017-01-16T03:13:04.037Z  \n",
              "3  2020-06-04T09:55:49.859Z  2020-06-04T09:55:49.859Z  \n",
              "4  2020-07-02T02:41:10.638Z  2020-07-02T02:41:10.638Z  \n",
              "\n",
              "[5 rows x 87 columns]"
            ],
            "text/html": [
              "\n",
              "  <div id=\"df-4051d975-dc3c-4cd0-b344-00f4ab8abe7d\">\n",
              "    <div class=\"colab-df-container\">\n",
              "      <div>\n",
              "<style scoped>\n",
              "    .dataframe tbody tr th:only-of-type {\n",
              "        vertical-align: middle;\n",
              "    }\n",
              "\n",
              "    .dataframe tbody tr th {\n",
              "        vertical-align: top;\n",
              "    }\n",
              "\n",
              "    .dataframe thead th {\n",
              "        text-align: right;\n",
              "    }\n",
              "</style>\n",
              "<table border=\"1\" class=\"dataframe\">\n",
              "  <thead>\n",
              "    <tr style=\"text-align: right;\">\n",
              "      <th></th>\n",
              "      <th>Genome ID</th>\n",
              "      <th>Genome Name</th>\n",
              "      <th>Other Names</th>\n",
              "      <th>NCBI Taxon ID</th>\n",
              "      <th>Taxon Lineage IDs</th>\n",
              "      <th>Taxon Lineage Names</th>\n",
              "      <th>Superkingdom</th>\n",
              "      <th>Kingdom</th>\n",
              "      <th>Phylum</th>\n",
              "      <th>Class</th>\n",
              "      <th>...</th>\n",
              "      <th>Host Age</th>\n",
              "      <th>Host Health</th>\n",
              "      <th>Host Group</th>\n",
              "      <th>Lab Host</th>\n",
              "      <th>Passage</th>\n",
              "      <th>Other Clinical</th>\n",
              "      <th>Additional Metadata</th>\n",
              "      <th>Comments</th>\n",
              "      <th>Date Inserted</th>\n",
              "      <th>Date Modified</th>\n",
              "    </tr>\n",
              "  </thead>\n",
              "  <tbody>\n",
              "    <tr>\n",
              "      <th>0</th>\n",
              "      <td>1041522.30</td>\n",
              "      <td>Mycobacterium colombiense CECT 3035</td>\n",
              "      <td>NaN</td>\n",
              "      <td>1041522</td>\n",
              "      <td>131567;2;1783272;201174;1760;85007;1762;1763;1...</td>\n",
              "      <td>cellular organisms;Bacteria;Terrabacteria grou...</td>\n",
              "      <td>Bacteria</td>\n",
              "      <td>Bacteria</td>\n",
              "      <td>Actinobacteria</td>\n",
              "      <td>Actinomycetia</td>\n",
              "      <td>...</td>\n",
              "      <td>NaN</td>\n",
              "      <td>HIV positive</td>\n",
              "      <td>Human</td>\n",
              "      <td>NaN</td>\n",
              "      <td>NaN</td>\n",
              "      <td>NaN</td>\n",
              "      <td>NaN</td>\n",
              "      <td>Mycobacterium colombiense CECT 3035 is the typ...</td>\n",
              "      <td>2014-12-08T22:12:07.364Z</td>\n",
              "      <td>2015-03-16T03:17:09.594Z</td>\n",
              "    </tr>\n",
              "    <tr>\n",
              "      <th>1</th>\n",
              "      <td>1087469.30</td>\n",
              "      <td>Mycobacterium abscessus subsp. bolletii INCQS ...</td>\n",
              "      <td>NaN</td>\n",
              "      <td>1087469</td>\n",
              "      <td>131567;2;1783272;201174;1760;85007;1762;670516...</td>\n",
              "      <td>cellular organisms;Bacteria;Terrabacteria grou...</td>\n",
              "      <td>Bacteria</td>\n",
              "      <td>Bacteria</td>\n",
              "      <td>Actinobacteria</td>\n",
              "      <td>Actinomycetia</td>\n",
              "      <td>...</td>\n",
              "      <td>NaN</td>\n",
              "      <td>NaN</td>\n",
              "      <td>Human</td>\n",
              "      <td>NaN</td>\n",
              "      <td>NaN</td>\n",
              "      <td>NaN</td>\n",
              "      <td>NaN</td>\n",
              "      <td>This organism causes chronic lung infection, s...</td>\n",
              "      <td>2016-01-17T15:30:26.157Z</td>\n",
              "      <td>2016-01-17T15:30:26.157Z</td>\n",
              "    </tr>\n",
              "    <tr>\n",
              "      <th>2</th>\n",
              "      <td>110505.50</td>\n",
              "      <td>Mycobacterium heckeshornense strain CTRI-134</td>\n",
              "      <td>NaN</td>\n",
              "      <td>110505</td>\n",
              "      <td>131567;2;1783272;201174;1760;85007;1762;1763;1...</td>\n",
              "      <td>cellular organisms;Bacteria;Terrabacteria grou...</td>\n",
              "      <td>Bacteria</td>\n",
              "      <td>Bacteria</td>\n",
              "      <td>Actinobacteria</td>\n",
              "      <td>Actinomycetia</td>\n",
              "      <td>...</td>\n",
              "      <td>NaN</td>\n",
              "      <td>mycobacteriosis</td>\n",
              "      <td>Human</td>\n",
              "      <td>NaN</td>\n",
              "      <td>NaN</td>\n",
              "      <td>NaN</td>\n",
              "      <td>collected_by:Central Tuberculosis Research Ins...</td>\n",
              "      <td>WGS study of clinically relevant Mycobacterium...</td>\n",
              "      <td>2017-01-16T03:13:04.037Z</td>\n",
              "      <td>2017-01-16T03:13:04.037Z</td>\n",
              "    </tr>\n",
              "    <tr>\n",
              "      <th>3</th>\n",
              "      <td>115862.23</td>\n",
              "      <td>Mycobacterium tuberculosis variant caprae stra...</td>\n",
              "      <td>NaN</td>\n",
              "      <td>115862</td>\n",
              "      <td>131567;2;1783272;201174;1760;85007;1762;1763;7...</td>\n",
              "      <td>cellular organisms;Bacteria;Terrabacteria grou...</td>\n",
              "      <td>Bacteria</td>\n",
              "      <td>Bacteria</td>\n",
              "      <td>Actinobacteria</td>\n",
              "      <td>Actinomycetia</td>\n",
              "      <td>...</td>\n",
              "      <td>NaN</td>\n",
              "      <td>Tuberculosis</td>\n",
              "      <td>Human</td>\n",
              "      <td>NaN</td>\n",
              "      <td>NaN</td>\n",
              "      <td>NaN</td>\n",
              "      <td>collected_by:D van Soolingen</td>\n",
              "      <td>Mycobacterium caprae, strain NLA000201913 was ...</td>\n",
              "      <td>2020-06-04T09:55:49.859Z</td>\n",
              "      <td>2020-06-04T09:55:49.859Z</td>\n",
              "    </tr>\n",
              "    <tr>\n",
              "      <th>4</th>\n",
              "      <td>115862.25</td>\n",
              "      <td>Mycobacterium tuberculosis variant caprae stra...</td>\n",
              "      <td>NaN</td>\n",
              "      <td>115862</td>\n",
              "      <td>131567;2;1783272;201174;1760;85007;1762;1763;7...</td>\n",
              "      <td>cellular organisms;Bacteria;Terrabacteria grou...</td>\n",
              "      <td>Bacteria</td>\n",
              "      <td>Bacteria</td>\n",
              "      <td>Actinobacteria</td>\n",
              "      <td>Actinomycetia</td>\n",
              "      <td>...</td>\n",
              "      <td>NaN</td>\n",
              "      <td>Tuberculosis</td>\n",
              "      <td>Human</td>\n",
              "      <td>NaN</td>\n",
              "      <td>NaN</td>\n",
              "      <td>NaN</td>\n",
              "      <td>NaN</td>\n",
              "      <td>The aim of this study is to sequence and analy...</td>\n",
              "      <td>2020-07-02T02:41:10.638Z</td>\n",
              "      <td>2020-07-02T02:41:10.638Z</td>\n",
              "    </tr>\n",
              "  </tbody>\n",
              "</table>\n",
              "<p>5 rows × 87 columns</p>\n",
              "</div>\n",
              "      <button class=\"colab-df-convert\" onclick=\"convertToInteractive('df-4051d975-dc3c-4cd0-b344-00f4ab8abe7d')\"\n",
              "              title=\"Convert this dataframe to an interactive table.\"\n",
              "              style=\"display:none;\">\n",
              "        \n",
              "  <svg xmlns=\"http://www.w3.org/2000/svg\" height=\"24px\"viewBox=\"0 0 24 24\"\n",
              "       width=\"24px\">\n",
              "    <path d=\"M0 0h24v24H0V0z\" fill=\"none\"/>\n",
              "    <path d=\"M18.56 5.44l.94 2.06.94-2.06 2.06-.94-2.06-.94-.94-2.06-.94 2.06-2.06.94zm-11 1L8.5 8.5l.94-2.06 2.06-.94-2.06-.94L8.5 2.5l-.94 2.06-2.06.94zm10 10l.94 2.06.94-2.06 2.06-.94-2.06-.94-.94-2.06-.94 2.06-2.06.94z\"/><path d=\"M17.41 7.96l-1.37-1.37c-.4-.4-.92-.59-1.43-.59-.52 0-1.04.2-1.43.59L10.3 9.45l-7.72 7.72c-.78.78-.78 2.05 0 2.83L4 21.41c.39.39.9.59 1.41.59.51 0 1.02-.2 1.41-.59l7.78-7.78 2.81-2.81c.8-.78.8-2.07 0-2.86zM5.41 20L4 18.59l7.72-7.72 1.47 1.35L5.41 20z\"/>\n",
              "  </svg>\n",
              "      </button>\n",
              "      \n",
              "  <style>\n",
              "    .colab-df-container {\n",
              "      display:flex;\n",
              "      flex-wrap:wrap;\n",
              "      gap: 12px;\n",
              "    }\n",
              "\n",
              "    .colab-df-convert {\n",
              "      background-color: #E8F0FE;\n",
              "      border: none;\n",
              "      border-radius: 50%;\n",
              "      cursor: pointer;\n",
              "      display: none;\n",
              "      fill: #1967D2;\n",
              "      height: 32px;\n",
              "      padding: 0 0 0 0;\n",
              "      width: 32px;\n",
              "    }\n",
              "\n",
              "    .colab-df-convert:hover {\n",
              "      background-color: #E2EBFA;\n",
              "      box-shadow: 0px 1px 2px rgba(60, 64, 67, 0.3), 0px 1px 3px 1px rgba(60, 64, 67, 0.15);\n",
              "      fill: #174EA6;\n",
              "    }\n",
              "\n",
              "    [theme=dark] .colab-df-convert {\n",
              "      background-color: #3B4455;\n",
              "      fill: #D2E3FC;\n",
              "    }\n",
              "\n",
              "    [theme=dark] .colab-df-convert:hover {\n",
              "      background-color: #434B5C;\n",
              "      box-shadow: 0px 1px 3px 1px rgba(0, 0, 0, 0.15);\n",
              "      filter: drop-shadow(0px 1px 2px rgba(0, 0, 0, 0.3));\n",
              "      fill: #FFFFFF;\n",
              "    }\n",
              "  </style>\n",
              "\n",
              "      <script>\n",
              "        const buttonEl =\n",
              "          document.querySelector('#df-4051d975-dc3c-4cd0-b344-00f4ab8abe7d button.colab-df-convert');\n",
              "        buttonEl.style.display =\n",
              "          google.colab.kernel.accessAllowed ? 'block' : 'none';\n",
              "\n",
              "        async function convertToInteractive(key) {\n",
              "          const element = document.querySelector('#df-4051d975-dc3c-4cd0-b344-00f4ab8abe7d');\n",
              "          const dataTable =\n",
              "            await google.colab.kernel.invokeFunction('convertToInteractive',\n",
              "                                                     [key], {});\n",
              "          if (!dataTable) return;\n",
              "\n",
              "          const docLinkHtml = 'Like what you see? Visit the ' +\n",
              "            '<a target=\"_blank\" href=https://colab.research.google.com/notebooks/data_table.ipynb>data table notebook</a>'\n",
              "            + ' to learn more about interactive tables.';\n",
              "          element.innerHTML = '';\n",
              "          dataTable['output_type'] = 'display_data';\n",
              "          await google.colab.output.renderOutput(dataTable, element);\n",
              "          const docLink = document.createElement('div');\n",
              "          docLink.innerHTML = docLinkHtml;\n",
              "          element.appendChild(docLink);\n",
              "        }\n",
              "      </script>\n",
              "    </div>\n",
              "  </div>\n",
              "  "
            ]
          },
          "metadata": {},
          "execution_count": 6
        }
      ]
    },
    {
      "cell_type": "code",
      "source": [
        "df2.head()"
      ],
      "metadata": {
        "colab": {
          "base_uri": "https://localhost:8080/",
          "height": 560
        },
        "id": "HA2xFwHroLwj",
        "outputId": "9f115bb8-b311-4d6a-8397-028afaebb85e"
      },
      "execution_count": 7,
      "outputs": [
        {
          "output_type": "execute_result",
          "data": {
            "text/plain": [
              "   Taxon ID   Genome ID                               Genome Name  Antibiotic  \\\n",
              "0      1773  1733.52000     Mycobacterium tuberculosis 16.0617651   ofloxacin   \n",
              "1      1773  1733.10022         Mycobacterium tuberculosis 04s099  ethambutol   \n",
              "2      1773  1773.20463     Mycobacterium tuberculosis ERR1035028  ethambutol   \n",
              "3      1773  1733.29630  Mycobacterium tuberculosis Italy_MGIT109  ethambutol   \n",
              "4      1773  1773.19040      Mycobacterium tuberculosis ERR161193   isoniazid   \n",
              "\n",
              "  Resistant Phenotype Measurement Measurement Sign  Measurement Value  \\\n",
              "0         Susceptible         NaN              NaN                NaN   \n",
              "1         Susceptible         NaN              NaN                NaN   \n",
              "2         Susceptible         NaN              NaN                NaN   \n",
              "3         Susceptible         NaN              NaN                NaN   \n",
              "4         Susceptible         NaN              NaN                NaN   \n",
              "\n",
              "  Measurement Unit Laboratory Typing Method  ... Laboratory Typing Platform  \\\n",
              "0              NaN                      NaN  ...                        NaN   \n",
              "1              NaN                      NaN  ...                        NaN   \n",
              "2              NaN                      NaN  ...                        NaN   \n",
              "3              NaN                      NaN  ...                        NaN   \n",
              "4              NaN                      NaN  ...                        NaN   \n",
              "\n",
              "   Vendor                                   Testing Standard  \\\n",
              "0     NaN                                                NaN   \n",
              "1     NaN                                                NaN   \n",
              "2  PATRIC                                                NaN   \n",
              "3     NaN                                                NaN   \n",
              "4     NaN  WHO: Guidelines for Surveillance of Drug Resis...   \n",
              "\n",
              "  Testing Standard Year  Computational Method Computational Method Version  \\\n",
              "0                   NaN   AdaBoost Classifier                          NaN   \n",
              "1                   NaN   AdaBoost Classifier                          NaN   \n",
              "2                   NaN   AdaBoost Classifier                          NaN   \n",
              "3                   NaN   AdaBoost Classifier                          NaN   \n",
              "4                2009.0                   NaN                          NaN   \n",
              "\n",
              "            Computational Method Performance              Evidence Source  \\\n",
              "0  Accuracy:0.790, F1 score:0.771, AUC:0.855  Computational Method    NaN   \n",
              "1  Accuracy:0.670, F1 score:0.695, AUC:0.730  Computational Method    NaN   \n",
              "2  Accuracy:0.670, F1 score:0.695, AUC:0.730  Computational Method    NaN   \n",
              "3  Accuracy:0.670, F1 score:0.695, AUC:0.730  Computational Method    NaN   \n",
              "4                                        NaN     Laboratory Method    NaN   \n",
              "\n",
              "     PubMed  \n",
              "0       NaN  \n",
              "1       NaN  \n",
              "2       NaN  \n",
              "3       NaN  \n",
              "4  29358649  \n",
              "\n",
              "[5 rows x 21 columns]"
            ],
            "text/html": [
              "\n",
              "  <div id=\"df-0d680efc-1218-435c-944f-c89814ad5e7a\">\n",
              "    <div class=\"colab-df-container\">\n",
              "      <div>\n",
              "<style scoped>\n",
              "    .dataframe tbody tr th:only-of-type {\n",
              "        vertical-align: middle;\n",
              "    }\n",
              "\n",
              "    .dataframe tbody tr th {\n",
              "        vertical-align: top;\n",
              "    }\n",
              "\n",
              "    .dataframe thead th {\n",
              "        text-align: right;\n",
              "    }\n",
              "</style>\n",
              "<table border=\"1\" class=\"dataframe\">\n",
              "  <thead>\n",
              "    <tr style=\"text-align: right;\">\n",
              "      <th></th>\n",
              "      <th>Taxon ID</th>\n",
              "      <th>Genome ID</th>\n",
              "      <th>Genome Name</th>\n",
              "      <th>Antibiotic</th>\n",
              "      <th>Resistant Phenotype</th>\n",
              "      <th>Measurement</th>\n",
              "      <th>Measurement Sign</th>\n",
              "      <th>Measurement Value</th>\n",
              "      <th>Measurement Unit</th>\n",
              "      <th>Laboratory Typing Method</th>\n",
              "      <th>...</th>\n",
              "      <th>Laboratory Typing Platform</th>\n",
              "      <th>Vendor</th>\n",
              "      <th>Testing Standard</th>\n",
              "      <th>Testing Standard Year</th>\n",
              "      <th>Computational Method</th>\n",
              "      <th>Computational Method Version</th>\n",
              "      <th>Computational Method Performance</th>\n",
              "      <th>Evidence</th>\n",
              "      <th>Source</th>\n",
              "      <th>PubMed</th>\n",
              "    </tr>\n",
              "  </thead>\n",
              "  <tbody>\n",
              "    <tr>\n",
              "      <th>0</th>\n",
              "      <td>1773</td>\n",
              "      <td>1733.52000</td>\n",
              "      <td>Mycobacterium tuberculosis 16.0617651</td>\n",
              "      <td>ofloxacin</td>\n",
              "      <td>Susceptible</td>\n",
              "      <td>NaN</td>\n",
              "      <td>NaN</td>\n",
              "      <td>NaN</td>\n",
              "      <td>NaN</td>\n",
              "      <td>NaN</td>\n",
              "      <td>...</td>\n",
              "      <td>NaN</td>\n",
              "      <td>NaN</td>\n",
              "      <td>NaN</td>\n",
              "      <td>NaN</td>\n",
              "      <td>AdaBoost Classifier</td>\n",
              "      <td>NaN</td>\n",
              "      <td>Accuracy:0.790, F1 score:0.771, AUC:0.855</td>\n",
              "      <td>Computational Method</td>\n",
              "      <td>NaN</td>\n",
              "      <td>NaN</td>\n",
              "    </tr>\n",
              "    <tr>\n",
              "      <th>1</th>\n",
              "      <td>1773</td>\n",
              "      <td>1733.10022</td>\n",
              "      <td>Mycobacterium tuberculosis 04s099</td>\n",
              "      <td>ethambutol</td>\n",
              "      <td>Susceptible</td>\n",
              "      <td>NaN</td>\n",
              "      <td>NaN</td>\n",
              "      <td>NaN</td>\n",
              "      <td>NaN</td>\n",
              "      <td>NaN</td>\n",
              "      <td>...</td>\n",
              "      <td>NaN</td>\n",
              "      <td>NaN</td>\n",
              "      <td>NaN</td>\n",
              "      <td>NaN</td>\n",
              "      <td>AdaBoost Classifier</td>\n",
              "      <td>NaN</td>\n",
              "      <td>Accuracy:0.670, F1 score:0.695, AUC:0.730</td>\n",
              "      <td>Computational Method</td>\n",
              "      <td>NaN</td>\n",
              "      <td>NaN</td>\n",
              "    </tr>\n",
              "    <tr>\n",
              "      <th>2</th>\n",
              "      <td>1773</td>\n",
              "      <td>1773.20463</td>\n",
              "      <td>Mycobacterium tuberculosis ERR1035028</td>\n",
              "      <td>ethambutol</td>\n",
              "      <td>Susceptible</td>\n",
              "      <td>NaN</td>\n",
              "      <td>NaN</td>\n",
              "      <td>NaN</td>\n",
              "      <td>NaN</td>\n",
              "      <td>NaN</td>\n",
              "      <td>...</td>\n",
              "      <td>NaN</td>\n",
              "      <td>PATRIC</td>\n",
              "      <td>NaN</td>\n",
              "      <td>NaN</td>\n",
              "      <td>AdaBoost Classifier</td>\n",
              "      <td>NaN</td>\n",
              "      <td>Accuracy:0.670, F1 score:0.695, AUC:0.730</td>\n",
              "      <td>Computational Method</td>\n",
              "      <td>NaN</td>\n",
              "      <td>NaN</td>\n",
              "    </tr>\n",
              "    <tr>\n",
              "      <th>3</th>\n",
              "      <td>1773</td>\n",
              "      <td>1733.29630</td>\n",
              "      <td>Mycobacterium tuberculosis Italy_MGIT109</td>\n",
              "      <td>ethambutol</td>\n",
              "      <td>Susceptible</td>\n",
              "      <td>NaN</td>\n",
              "      <td>NaN</td>\n",
              "      <td>NaN</td>\n",
              "      <td>NaN</td>\n",
              "      <td>NaN</td>\n",
              "      <td>...</td>\n",
              "      <td>NaN</td>\n",
              "      <td>NaN</td>\n",
              "      <td>NaN</td>\n",
              "      <td>NaN</td>\n",
              "      <td>AdaBoost Classifier</td>\n",
              "      <td>NaN</td>\n",
              "      <td>Accuracy:0.670, F1 score:0.695, AUC:0.730</td>\n",
              "      <td>Computational Method</td>\n",
              "      <td>NaN</td>\n",
              "      <td>NaN</td>\n",
              "    </tr>\n",
              "    <tr>\n",
              "      <th>4</th>\n",
              "      <td>1773</td>\n",
              "      <td>1773.19040</td>\n",
              "      <td>Mycobacterium tuberculosis ERR161193</td>\n",
              "      <td>isoniazid</td>\n",
              "      <td>Susceptible</td>\n",
              "      <td>NaN</td>\n",
              "      <td>NaN</td>\n",
              "      <td>NaN</td>\n",
              "      <td>NaN</td>\n",
              "      <td>NaN</td>\n",
              "      <td>...</td>\n",
              "      <td>NaN</td>\n",
              "      <td>NaN</td>\n",
              "      <td>WHO: Guidelines for Surveillance of Drug Resis...</td>\n",
              "      <td>2009.0</td>\n",
              "      <td>NaN</td>\n",
              "      <td>NaN</td>\n",
              "      <td>NaN</td>\n",
              "      <td>Laboratory Method</td>\n",
              "      <td>NaN</td>\n",
              "      <td>29358649</td>\n",
              "    </tr>\n",
              "  </tbody>\n",
              "</table>\n",
              "<p>5 rows × 21 columns</p>\n",
              "</div>\n",
              "      <button class=\"colab-df-convert\" onclick=\"convertToInteractive('df-0d680efc-1218-435c-944f-c89814ad5e7a')\"\n",
              "              title=\"Convert this dataframe to an interactive table.\"\n",
              "              style=\"display:none;\">\n",
              "        \n",
              "  <svg xmlns=\"http://www.w3.org/2000/svg\" height=\"24px\"viewBox=\"0 0 24 24\"\n",
              "       width=\"24px\">\n",
              "    <path d=\"M0 0h24v24H0V0z\" fill=\"none\"/>\n",
              "    <path d=\"M18.56 5.44l.94 2.06.94-2.06 2.06-.94-2.06-.94-.94-2.06-.94 2.06-2.06.94zm-11 1L8.5 8.5l.94-2.06 2.06-.94-2.06-.94L8.5 2.5l-.94 2.06-2.06.94zm10 10l.94 2.06.94-2.06 2.06-.94-2.06-.94-.94-2.06-.94 2.06-2.06.94z\"/><path d=\"M17.41 7.96l-1.37-1.37c-.4-.4-.92-.59-1.43-.59-.52 0-1.04.2-1.43.59L10.3 9.45l-7.72 7.72c-.78.78-.78 2.05 0 2.83L4 21.41c.39.39.9.59 1.41.59.51 0 1.02-.2 1.41-.59l7.78-7.78 2.81-2.81c.8-.78.8-2.07 0-2.86zM5.41 20L4 18.59l7.72-7.72 1.47 1.35L5.41 20z\"/>\n",
              "  </svg>\n",
              "      </button>\n",
              "      \n",
              "  <style>\n",
              "    .colab-df-container {\n",
              "      display:flex;\n",
              "      flex-wrap:wrap;\n",
              "      gap: 12px;\n",
              "    }\n",
              "\n",
              "    .colab-df-convert {\n",
              "      background-color: #E8F0FE;\n",
              "      border: none;\n",
              "      border-radius: 50%;\n",
              "      cursor: pointer;\n",
              "      display: none;\n",
              "      fill: #1967D2;\n",
              "      height: 32px;\n",
              "      padding: 0 0 0 0;\n",
              "      width: 32px;\n",
              "    }\n",
              "\n",
              "    .colab-df-convert:hover {\n",
              "      background-color: #E2EBFA;\n",
              "      box-shadow: 0px 1px 2px rgba(60, 64, 67, 0.3), 0px 1px 3px 1px rgba(60, 64, 67, 0.15);\n",
              "      fill: #174EA6;\n",
              "    }\n",
              "\n",
              "    [theme=dark] .colab-df-convert {\n",
              "      background-color: #3B4455;\n",
              "      fill: #D2E3FC;\n",
              "    }\n",
              "\n",
              "    [theme=dark] .colab-df-convert:hover {\n",
              "      background-color: #434B5C;\n",
              "      box-shadow: 0px 1px 3px 1px rgba(0, 0, 0, 0.15);\n",
              "      filter: drop-shadow(0px 1px 2px rgba(0, 0, 0, 0.3));\n",
              "      fill: #FFFFFF;\n",
              "    }\n",
              "  </style>\n",
              "\n",
              "      <script>\n",
              "        const buttonEl =\n",
              "          document.querySelector('#df-0d680efc-1218-435c-944f-c89814ad5e7a button.colab-df-convert');\n",
              "        buttonEl.style.display =\n",
              "          google.colab.kernel.accessAllowed ? 'block' : 'none';\n",
              "\n",
              "        async function convertToInteractive(key) {\n",
              "          const element = document.querySelector('#df-0d680efc-1218-435c-944f-c89814ad5e7a');\n",
              "          const dataTable =\n",
              "            await google.colab.kernel.invokeFunction('convertToInteractive',\n",
              "                                                     [key], {});\n",
              "          if (!dataTable) return;\n",
              "\n",
              "          const docLinkHtml = 'Like what you see? Visit the ' +\n",
              "            '<a target=\"_blank\" href=https://colab.research.google.com/notebooks/data_table.ipynb>data table notebook</a>'\n",
              "            + ' to learn more about interactive tables.';\n",
              "          element.innerHTML = '';\n",
              "          dataTable['output_type'] = 'display_data';\n",
              "          await google.colab.output.renderOutput(dataTable, element);\n",
              "          const docLink = document.createElement('div');\n",
              "          docLink.innerHTML = docLinkHtml;\n",
              "          element.appendChild(docLink);\n",
              "        }\n",
              "      </script>\n",
              "    </div>\n",
              "  </div>\n",
              "  "
            ]
          },
          "metadata": {},
          "execution_count": 7
        }
      ]
    },
    {
      "cell_type": "code",
      "source": [
        "df = pd.merge(df1, df2, on=\"Genome ID\")\n",
        "df.head()"
      ],
      "metadata": {
        "colab": {
          "base_uri": "https://localhost:8080/",
          "height": 595
        },
        "id": "7oSPwRGIqKIT",
        "outputId": "0cb486a9-af34-44f2-9ba5-9d3bb7ce6f1c"
      },
      "execution_count": 8,
      "outputs": [
        {
          "output_type": "execute_result",
          "data": {
            "text/plain": [
              "   Genome ID                                      Genome Name_x  Other Names  \\\n",
              "0  115862.23  Mycobacterium tuberculosis variant caprae stra...          NaN   \n",
              "1  115862.23  Mycobacterium tuberculosis variant caprae stra...          NaN   \n",
              "2  115862.23  Mycobacterium tuberculosis variant caprae stra...          NaN   \n",
              "3  115862.23  Mycobacterium tuberculosis variant caprae stra...          NaN   \n",
              "4  115862.23  Mycobacterium tuberculosis variant caprae stra...          NaN   \n",
              "\n",
              "   NCBI Taxon ID                                  Taxon Lineage IDs  \\\n",
              "0         115862  131567;2;1783272;201174;1760;85007;1762;1763;7...   \n",
              "1         115862  131567;2;1783272;201174;1760;85007;1762;1763;7...   \n",
              "2         115862  131567;2;1783272;201174;1760;85007;1762;1763;7...   \n",
              "3         115862  131567;2;1783272;201174;1760;85007;1762;1763;7...   \n",
              "4         115862  131567;2;1783272;201174;1760;85007;1762;1763;7...   \n",
              "\n",
              "                                 Taxon Lineage Names Superkingdom   Kingdom  \\\n",
              "0  cellular organisms;Bacteria;Terrabacteria grou...     Bacteria  Bacteria   \n",
              "1  cellular organisms;Bacteria;Terrabacteria grou...     Bacteria  Bacteria   \n",
              "2  cellular organisms;Bacteria;Terrabacteria grou...     Bacteria  Bacteria   \n",
              "3  cellular organisms;Bacteria;Terrabacteria grou...     Bacteria  Bacteria   \n",
              "4  cellular organisms;Bacteria;Terrabacteria grou...     Bacteria  Bacteria   \n",
              "\n",
              "           Phylum          Class  ... Laboratory Typing Platform  Vendor  \\\n",
              "0  Actinobacteria  Actinomycetia  ...                        NaN  PATRIC   \n",
              "1  Actinobacteria  Actinomycetia  ...                        NaN  PATRIC   \n",
              "2  Actinobacteria  Actinomycetia  ...                        NaN  PATRIC   \n",
              "3  Actinobacteria  Actinomycetia  ...                        NaN  PATRIC   \n",
              "4  Actinobacteria  Actinomycetia  ...                        NaN  PATRIC   \n",
              "\n",
              "  Testing Standard Testing Standard Year Computational Method  \\\n",
              "0              NaN                   NaN  AdaBoost Classifier   \n",
              "1              NaN                   NaN  AdaBoost Classifier   \n",
              "2              NaN                   NaN  AdaBoost Classifier   \n",
              "3              NaN                   NaN  AdaBoost Classifier   \n",
              "4              NaN                   NaN  AdaBoost Classifier   \n",
              "\n",
              "  Computational Method Version           Computational Method Performance  \\\n",
              "0                          NaN  Accuracy:0.670, F1 score:0.695, AUC:0.730   \n",
              "1                          NaN  Accuracy:0.790, F1 score:0.771, AUC:0.855   \n",
              "2                          NaN  Accuracy:0.843, F1 score:0.838, AUC:0.905   \n",
              "3                          NaN  Accuracy:0.831, F1 score:0.844, AUC:0.909   \n",
              "4                          NaN  Accuracy:0.747, F1 score:0.754, AUC:0.818   \n",
              "\n",
              "               Evidence Source PubMed  \n",
              "0  Computational Method    NaN    NaN  \n",
              "1  Computational Method    NaN    NaN  \n",
              "2  Computational Method    NaN    NaN  \n",
              "3  Computational Method    NaN    NaN  \n",
              "4  Computational Method    NaN    NaN  \n",
              "\n",
              "[5 rows x 107 columns]"
            ],
            "text/html": [
              "\n",
              "  <div id=\"df-20bd9673-f45e-4c84-8785-4837d432d83e\">\n",
              "    <div class=\"colab-df-container\">\n",
              "      <div>\n",
              "<style scoped>\n",
              "    .dataframe tbody tr th:only-of-type {\n",
              "        vertical-align: middle;\n",
              "    }\n",
              "\n",
              "    .dataframe tbody tr th {\n",
              "        vertical-align: top;\n",
              "    }\n",
              "\n",
              "    .dataframe thead th {\n",
              "        text-align: right;\n",
              "    }\n",
              "</style>\n",
              "<table border=\"1\" class=\"dataframe\">\n",
              "  <thead>\n",
              "    <tr style=\"text-align: right;\">\n",
              "      <th></th>\n",
              "      <th>Genome ID</th>\n",
              "      <th>Genome Name_x</th>\n",
              "      <th>Other Names</th>\n",
              "      <th>NCBI Taxon ID</th>\n",
              "      <th>Taxon Lineage IDs</th>\n",
              "      <th>Taxon Lineage Names</th>\n",
              "      <th>Superkingdom</th>\n",
              "      <th>Kingdom</th>\n",
              "      <th>Phylum</th>\n",
              "      <th>Class</th>\n",
              "      <th>...</th>\n",
              "      <th>Laboratory Typing Platform</th>\n",
              "      <th>Vendor</th>\n",
              "      <th>Testing Standard</th>\n",
              "      <th>Testing Standard Year</th>\n",
              "      <th>Computational Method</th>\n",
              "      <th>Computational Method Version</th>\n",
              "      <th>Computational Method Performance</th>\n",
              "      <th>Evidence</th>\n",
              "      <th>Source</th>\n",
              "      <th>PubMed</th>\n",
              "    </tr>\n",
              "  </thead>\n",
              "  <tbody>\n",
              "    <tr>\n",
              "      <th>0</th>\n",
              "      <td>115862.23</td>\n",
              "      <td>Mycobacterium tuberculosis variant caprae stra...</td>\n",
              "      <td>NaN</td>\n",
              "      <td>115862</td>\n",
              "      <td>131567;2;1783272;201174;1760;85007;1762;1763;7...</td>\n",
              "      <td>cellular organisms;Bacteria;Terrabacteria grou...</td>\n",
              "      <td>Bacteria</td>\n",
              "      <td>Bacteria</td>\n",
              "      <td>Actinobacteria</td>\n",
              "      <td>Actinomycetia</td>\n",
              "      <td>...</td>\n",
              "      <td>NaN</td>\n",
              "      <td>PATRIC</td>\n",
              "      <td>NaN</td>\n",
              "      <td>NaN</td>\n",
              "      <td>AdaBoost Classifier</td>\n",
              "      <td>NaN</td>\n",
              "      <td>Accuracy:0.670, F1 score:0.695, AUC:0.730</td>\n",
              "      <td>Computational Method</td>\n",
              "      <td>NaN</td>\n",
              "      <td>NaN</td>\n",
              "    </tr>\n",
              "    <tr>\n",
              "      <th>1</th>\n",
              "      <td>115862.23</td>\n",
              "      <td>Mycobacterium tuberculosis variant caprae stra...</td>\n",
              "      <td>NaN</td>\n",
              "      <td>115862</td>\n",
              "      <td>131567;2;1783272;201174;1760;85007;1762;1763;7...</td>\n",
              "      <td>cellular organisms;Bacteria;Terrabacteria grou...</td>\n",
              "      <td>Bacteria</td>\n",
              "      <td>Bacteria</td>\n",
              "      <td>Actinobacteria</td>\n",
              "      <td>Actinomycetia</td>\n",
              "      <td>...</td>\n",
              "      <td>NaN</td>\n",
              "      <td>PATRIC</td>\n",
              "      <td>NaN</td>\n",
              "      <td>NaN</td>\n",
              "      <td>AdaBoost Classifier</td>\n",
              "      <td>NaN</td>\n",
              "      <td>Accuracy:0.790, F1 score:0.771, AUC:0.855</td>\n",
              "      <td>Computational Method</td>\n",
              "      <td>NaN</td>\n",
              "      <td>NaN</td>\n",
              "    </tr>\n",
              "    <tr>\n",
              "      <th>2</th>\n",
              "      <td>115862.23</td>\n",
              "      <td>Mycobacterium tuberculosis variant caprae stra...</td>\n",
              "      <td>NaN</td>\n",
              "      <td>115862</td>\n",
              "      <td>131567;2;1783272;201174;1760;85007;1762;1763;7...</td>\n",
              "      <td>cellular organisms;Bacteria;Terrabacteria grou...</td>\n",
              "      <td>Bacteria</td>\n",
              "      <td>Bacteria</td>\n",
              "      <td>Actinobacteria</td>\n",
              "      <td>Actinomycetia</td>\n",
              "      <td>...</td>\n",
              "      <td>NaN</td>\n",
              "      <td>PATRIC</td>\n",
              "      <td>NaN</td>\n",
              "      <td>NaN</td>\n",
              "      <td>AdaBoost Classifier</td>\n",
              "      <td>NaN</td>\n",
              "      <td>Accuracy:0.843, F1 score:0.838, AUC:0.905</td>\n",
              "      <td>Computational Method</td>\n",
              "      <td>NaN</td>\n",
              "      <td>NaN</td>\n",
              "    </tr>\n",
              "    <tr>\n",
              "      <th>3</th>\n",
              "      <td>115862.23</td>\n",
              "      <td>Mycobacterium tuberculosis variant caprae stra...</td>\n",
              "      <td>NaN</td>\n",
              "      <td>115862</td>\n",
              "      <td>131567;2;1783272;201174;1760;85007;1762;1763;7...</td>\n",
              "      <td>cellular organisms;Bacteria;Terrabacteria grou...</td>\n",
              "      <td>Bacteria</td>\n",
              "      <td>Bacteria</td>\n",
              "      <td>Actinobacteria</td>\n",
              "      <td>Actinomycetia</td>\n",
              "      <td>...</td>\n",
              "      <td>NaN</td>\n",
              "      <td>PATRIC</td>\n",
              "      <td>NaN</td>\n",
              "      <td>NaN</td>\n",
              "      <td>AdaBoost Classifier</td>\n",
              "      <td>NaN</td>\n",
              "      <td>Accuracy:0.831, F1 score:0.844, AUC:0.909</td>\n",
              "      <td>Computational Method</td>\n",
              "      <td>NaN</td>\n",
              "      <td>NaN</td>\n",
              "    </tr>\n",
              "    <tr>\n",
              "      <th>4</th>\n",
              "      <td>115862.23</td>\n",
              "      <td>Mycobacterium tuberculosis variant caprae stra...</td>\n",
              "      <td>NaN</td>\n",
              "      <td>115862</td>\n",
              "      <td>131567;2;1783272;201174;1760;85007;1762;1763;7...</td>\n",
              "      <td>cellular organisms;Bacteria;Terrabacteria grou...</td>\n",
              "      <td>Bacteria</td>\n",
              "      <td>Bacteria</td>\n",
              "      <td>Actinobacteria</td>\n",
              "      <td>Actinomycetia</td>\n",
              "      <td>...</td>\n",
              "      <td>NaN</td>\n",
              "      <td>PATRIC</td>\n",
              "      <td>NaN</td>\n",
              "      <td>NaN</td>\n",
              "      <td>AdaBoost Classifier</td>\n",
              "      <td>NaN</td>\n",
              "      <td>Accuracy:0.747, F1 score:0.754, AUC:0.818</td>\n",
              "      <td>Computational Method</td>\n",
              "      <td>NaN</td>\n",
              "      <td>NaN</td>\n",
              "    </tr>\n",
              "  </tbody>\n",
              "</table>\n",
              "<p>5 rows × 107 columns</p>\n",
              "</div>\n",
              "      <button class=\"colab-df-convert\" onclick=\"convertToInteractive('df-20bd9673-f45e-4c84-8785-4837d432d83e')\"\n",
              "              title=\"Convert this dataframe to an interactive table.\"\n",
              "              style=\"display:none;\">\n",
              "        \n",
              "  <svg xmlns=\"http://www.w3.org/2000/svg\" height=\"24px\"viewBox=\"0 0 24 24\"\n",
              "       width=\"24px\">\n",
              "    <path d=\"M0 0h24v24H0V0z\" fill=\"none\"/>\n",
              "    <path d=\"M18.56 5.44l.94 2.06.94-2.06 2.06-.94-2.06-.94-.94-2.06-.94 2.06-2.06.94zm-11 1L8.5 8.5l.94-2.06 2.06-.94-2.06-.94L8.5 2.5l-.94 2.06-2.06.94zm10 10l.94 2.06.94-2.06 2.06-.94-2.06-.94-.94-2.06-.94 2.06-2.06.94z\"/><path d=\"M17.41 7.96l-1.37-1.37c-.4-.4-.92-.59-1.43-.59-.52 0-1.04.2-1.43.59L10.3 9.45l-7.72 7.72c-.78.78-.78 2.05 0 2.83L4 21.41c.39.39.9.59 1.41.59.51 0 1.02-.2 1.41-.59l7.78-7.78 2.81-2.81c.8-.78.8-2.07 0-2.86zM5.41 20L4 18.59l7.72-7.72 1.47 1.35L5.41 20z\"/>\n",
              "  </svg>\n",
              "      </button>\n",
              "      \n",
              "  <style>\n",
              "    .colab-df-container {\n",
              "      display:flex;\n",
              "      flex-wrap:wrap;\n",
              "      gap: 12px;\n",
              "    }\n",
              "\n",
              "    .colab-df-convert {\n",
              "      background-color: #E8F0FE;\n",
              "      border: none;\n",
              "      border-radius: 50%;\n",
              "      cursor: pointer;\n",
              "      display: none;\n",
              "      fill: #1967D2;\n",
              "      height: 32px;\n",
              "      padding: 0 0 0 0;\n",
              "      width: 32px;\n",
              "    }\n",
              "\n",
              "    .colab-df-convert:hover {\n",
              "      background-color: #E2EBFA;\n",
              "      box-shadow: 0px 1px 2px rgba(60, 64, 67, 0.3), 0px 1px 3px 1px rgba(60, 64, 67, 0.15);\n",
              "      fill: #174EA6;\n",
              "    }\n",
              "\n",
              "    [theme=dark] .colab-df-convert {\n",
              "      background-color: #3B4455;\n",
              "      fill: #D2E3FC;\n",
              "    }\n",
              "\n",
              "    [theme=dark] .colab-df-convert:hover {\n",
              "      background-color: #434B5C;\n",
              "      box-shadow: 0px 1px 3px 1px rgba(0, 0, 0, 0.15);\n",
              "      filter: drop-shadow(0px 1px 2px rgba(0, 0, 0, 0.3));\n",
              "      fill: #FFFFFF;\n",
              "    }\n",
              "  </style>\n",
              "\n",
              "      <script>\n",
              "        const buttonEl =\n",
              "          document.querySelector('#df-20bd9673-f45e-4c84-8785-4837d432d83e button.colab-df-convert');\n",
              "        buttonEl.style.display =\n",
              "          google.colab.kernel.accessAllowed ? 'block' : 'none';\n",
              "\n",
              "        async function convertToInteractive(key) {\n",
              "          const element = document.querySelector('#df-20bd9673-f45e-4c84-8785-4837d432d83e');\n",
              "          const dataTable =\n",
              "            await google.colab.kernel.invokeFunction('convertToInteractive',\n",
              "                                                     [key], {});\n",
              "          if (!dataTable) return;\n",
              "\n",
              "          const docLinkHtml = 'Like what you see? Visit the ' +\n",
              "            '<a target=\"_blank\" href=https://colab.research.google.com/notebooks/data_table.ipynb>data table notebook</a>'\n",
              "            + ' to learn more about interactive tables.';\n",
              "          element.innerHTML = '';\n",
              "          dataTable['output_type'] = 'display_data';\n",
              "          await google.colab.output.renderOutput(dataTable, element);\n",
              "          const docLink = document.createElement('div');\n",
              "          docLink.innerHTML = docLinkHtml;\n",
              "          element.appendChild(docLink);\n",
              "        }\n",
              "      </script>\n",
              "    </div>\n",
              "  </div>\n",
              "  "
            ]
          },
          "metadata": {},
          "execution_count": 8
        }
      ]
    },
    {
      "cell_type": "code",
      "source": [
        "#Check the number of columns and row the dataset has.\n",
        "print(f'The dataset has {df1.shape[1]} columns and {df1.shape[0]} rows.')\n",
        "print(f'The dataset has {df2.shape[1]} columns and {df2.shape[0]} rows.')\n",
        "print(f'The dataset has {df.shape[1]} columns and {df.shape[0]} rows.')"
      ],
      "metadata": {
        "id": "BqGa3NQjEDdp",
        "colab": {
          "base_uri": "https://localhost:8080/"
        },
        "outputId": "a12d0139-6acc-4d7f-8f95-56fe14205fa7"
      },
      "execution_count": 9,
      "outputs": [
        {
          "output_type": "stream",
          "name": "stdout",
          "text": [
            "The dataset has 87 columns and 17444 rows.\n",
            "The dataset has 21 columns and 301636 rows.\n",
            "The dataset has 107 columns and 197089 rows.\n"
          ]
        }
      ]
    },
    {
      "cell_type": "code",
      "source": [
        "df.columns"
      ],
      "metadata": {
        "id": "acQ3cEVPELxf",
        "colab": {
          "base_uri": "https://localhost:8080/"
        },
        "outputId": "9d84e38e-760e-4a9f-8393-92c2763a9544"
      },
      "execution_count": 10,
      "outputs": [
        {
          "output_type": "execute_result",
          "data": {
            "text/plain": [
              "Index(['Genome ID', 'Genome Name_x', 'Other Names', 'NCBI Taxon ID',\n",
              "       'Taxon Lineage IDs', 'Taxon Lineage Names', 'Superkingdom', 'Kingdom',\n",
              "       'Phylum', 'Class',\n",
              "       ...\n",
              "       'Laboratory Typing Platform', 'Vendor', 'Testing Standard',\n",
              "       'Testing Standard Year', 'Computational Method',\n",
              "       'Computational Method Version', 'Computational Method Performance',\n",
              "       'Evidence', 'Source', 'PubMed'],\n",
              "      dtype='object', length=107)"
            ]
          },
          "metadata": {},
          "execution_count": 10
        }
      ]
    },
    {
      "cell_type": "code",
      "source": [
        " #Print unique values less than 13.\n",
        "for i in df.columns:\n",
        "    if len(df[i].unique()) < 25:\n",
        "        #Print features with discrete values.\n",
        "        print(f'{i} has values {df[i].unique()}, {len(df[i].unique())} values total.')"
      ],
      "metadata": {
        "colab": {
          "base_uri": "https://localhost:8080/"
        },
        "id": "3ZpvELyO2Rfu",
        "outputId": "6b82fc29-e4c7-4ec2-df29-c0f006ee73c5"
      },
      "execution_count": 11,
      "outputs": [
        {
          "output_type": "stream",
          "name": "stdout",
          "text": [
            "Other Names has values [nan], 1 values total.\n",
            "Superkingdom has values ['Bacteria'], 1 values total.\n",
            "Kingdom has values ['Bacteria' nan], 2 values total.\n",
            "Phylum has values ['Actinobacteria'], 1 values total.\n",
            "Class has values ['Actinomycetia'], 1 values total.\n",
            "Order has values ['Corynebacteriales'], 1 values total.\n",
            "Family has values ['Mycobacteriaceae'], 1 values total.\n",
            "Genus has values ['Mycobacterium'], 1 values total.\n",
            "Species has values ['Mycobacterium tuberculosis' 'Mycobacterium colombiense' nan\n",
            " 'Mycobacterium tuberculosis complex sp. AY1MRC'], 4 values total.\n",
            "Genome Status has values ['WGS' 'Complete'], 2 values total.\n",
            "Serovar has values [nan 'Not Collected' 'serovar erdlovskaya' 'MTB1_M'], 4 values total.\n",
            "Biovar has values [nan], 1 values total.\n",
            "Pathovar has values [nan 'Not Collected' 'MDR' 'Beijing'], 4 values total.\n",
            "MLST has values [nan], 1 values total.\n",
            "Segment has values [nan], 1 values total.\n",
            "Subtype has values [nan], 1 values total.\n",
            "H_type has values [nan], 1 values total.\n",
            "N_type has values [nan], 1 values total.\n",
            "H1 Clade Global has values [nan], 1 values total.\n",
            "H1 Clade US has values [nan], 1 values total.\n",
            "H5 Clade has values [nan], 1 values total.\n",
            "pH1N1-like has values [nan], 1 values total.\n",
            "Lineage has values [nan], 1 values total.\n",
            "Clade has values [nan], 1 values total.\n",
            "Subclade has values [nan], 1 values total.\n",
            "Culture Collection has values [nan 'ATCC 35733' 'Not Collected' 'not applicable' 'FDA:FDAARGOS_757'\n",
            " 'ATCC:25177D-5' 'ATCC 35782' 'ATCC:35733'], 8 values total.\n",
            "Type Strain has values [nan], 1 values total.\n",
            "Reference has values [nan], 1 values total.\n",
            "Genome Quality has values ['Good'], 1 values total.\n",
            "Authors has values [nan], 1 values total.\n",
            "Sequencing Center has values [nan], 1 values total.\n",
            "Sequencing Status has values [nan 'WGS'], 2 values total.\n",
            "Chromosome has values [nan], 1 values total.\n",
            "Plasmids has values [nan], 1 values total.\n",
            "RRNA has values [ 2.  3.  5.  4.  7.  6.  8.  1. 11. 12.  9. nan 10. 14. 13.], 15 values total.\n",
            "Mat Peptide has values [nan], 1 values total.\n",
            "Genome Quality Flags has values [nan], 1 values total.\n",
            "Season has values [nan], 1 values total.\n",
            "Geographic Group has values ['Europe' nan 'Africa' 'Asia' 'South America' 'North America' 'Oceania'], 7 values total.\n",
            "Other Environmental has values [nan 'env_biome:not applicable'], 2 values total.\n",
            "Host Name has values ['Human, Homo sapiens' 'Homo sapiens sapiens' 'Homo sapiens'], 3 values total.\n",
            "Host Common Name has values ['Human'], 1 values total.\n",
            "Host Gender has values [nan 'Female' 'Male' 'male' 'M' 'F' 'female'], 7 values total.\n",
            "Host Group has values ['Human'], 1 values total.\n",
            "Lab Host has values [nan], 1 values total.\n",
            "Passage has values [nan 'MJIT to 7H9 media, 1st'], 2 values total.\n",
            "Antibiotic has values ['ethambutol' 'ofloxacin' 'kanamycin' 'rifampin' 'streptomycin'\n",
            " 'capreomycin' 'amikacin' 'isoniazid' 'nicotinamide' 'ethionamide'\n",
            " 'clofazimine' 'pyrazinamide' 'moxifloxacin' 'ciprofloxacin' 'cycloserine'\n",
            " 'para-aminosalicylic acid' 'rifabutin' 'prothionamide' 'linezolid'\n",
            " 'levofloxacin' 'delamanid' 'bedaquiline' 'amoxicillin'], 23 values total.\n",
            "Resistant Phenotype has values ['Susceptible' 'Resistant' nan 'Intermediate'], 4 values total.\n",
            "Measurement Sign has values [nan '>' '<=' '==' '<'], 5 values total.\n",
            "Measurement Unit has values [nan 'mg/L'], 2 values total.\n",
            "Laboratory Typing Method has values [nan 'Agar dilution' 'Broth dilution' 'Agar proportion' 'Disk diffusion'], 5 values total.\n",
            "Laboratory Typing Method Version has values [nan '500 mg/L' '1 mg/L' '2 mg/L' '5 mg/L' '10 mg/L' '0.125 mg/L' '6 mg/L'\n",
            " '0.2 mg/L' '0.25 mg/L' '7.5 mg/L' '0.2 or 1.0 mg/L' '0.5 mg/L' '0.1 mg/L'\n",
            " '60 mg/L' '4 mg/L' '8 mg/L' '25 mg/L' '128 mg/L' '2.5 mg/L' '40 mg/L'\n",
            " '100 mg/L' '0.4 mg/L'], 23 values total.\n",
            "Laboratory Typing Platform has values [nan 'BACTEC MGIT 960'], 2 values total.\n",
            "Vendor has values ['PATRIC' nan 'BD' 'Thermo Fisher Scientific'], 4 values total.\n",
            "Testing Standard has values [nan 'CLSI' 'WHO'\n",
            " 'WHO: Guidelines for Surveillance of Drug Resistance in Tuberculosis'], 4 values total.\n",
            "Testing Standard Year has values [  nan 2014. 2009.], 3 values total.\n",
            "Computational Method has values ['AdaBoost Classifier' nan], 2 values total.\n",
            "Computational Method Version has values [nan], 1 values total.\n",
            "Computational Method Performance has values ['Accuracy:0.670, F1 score:0.695, AUC:0.730'\n",
            " 'Accuracy:0.790, F1 score:0.771, AUC:0.855'\n",
            " 'Accuracy:0.843, F1 score:0.838, AUC:0.905'\n",
            " 'Accuracy:0.831, F1 score:0.844, AUC:0.909'\n",
            " 'Accuracy:0.747, F1 score:0.754, AUC:0.818'\n",
            " 'Accuracy:0.850, F1 score:0.841, AUC:0.893'\n",
            " 'Accuracy:0.907, F1 score:0.901, AUC:0.926'\n",
            " 'Accuracy:0.869, F1 score:0.864, AUC:0.926' nan\n",
            " 'Accuracy:0.882, F1 score:0.872, AUC:0.911'\n",
            " 'Accuracy:0.872, F1 score:0.871, AUC:0.898'\n",
            " 'Accuracy:0.858, F1 score:0.870, AUC:0.932'\n",
            " 'Accuracy:0.791, F1 score:0.761, AUC:0.833'\n",
            " 'Accuracy:0.712, F1 score:0.722, AUC:0.795'], 14 values total.\n",
            "Evidence has values ['Computational Method' 'Laboratory Method'], 2 values total.\n",
            "Source has values [nan], 1 values total.\n",
            "PubMed has values [nan '30280646' '24464101' '31086182' '33180013' '29358649' '31243306'\n",
            " '27530852' '30082724' '28137812' '29326013' '26686880;26116186'\n",
            " '25599400' '30373719' '22404577' '25960343' '27005572'], 17 values total.\n"
          ]
        }
      ]
    },
    {
      "cell_type": "markdown",
      "source": [
        "**Features Checking**\n",
        "\n",
        "The labels of the features to see that they are all present\n",
        "change label names for  the dataframe."
      ],
      "metadata": {
        "id": "-vV8RnwnMtFY"
      }
    },
    {
      "cell_type": "code",
      "source": [
        "label = df['Resistant Phenotype']\n",
        "df = df.drop(columns='Resistant Phenotype')\n",
        "df[\"Label\"] = label\n",
        "df.columns"
      ],
      "metadata": {
        "colab": {
          "base_uri": "https://localhost:8080/"
        },
        "id": "7gJv3MMn3w11",
        "outputId": "8a510546-3f06-434e-d9e7-f1701b1dfea2"
      },
      "execution_count": 12,
      "outputs": [
        {
          "output_type": "execute_result",
          "data": {
            "text/plain": [
              "Index(['Genome ID', 'Genome Name_x', 'Other Names', 'NCBI Taxon ID',\n",
              "       'Taxon Lineage IDs', 'Taxon Lineage Names', 'Superkingdom', 'Kingdom',\n",
              "       'Phylum', 'Class',\n",
              "       ...\n",
              "       'Vendor', 'Testing Standard', 'Testing Standard Year',\n",
              "       'Computational Method', 'Computational Method Version',\n",
              "       'Computational Method Performance', 'Evidence', 'Source', 'PubMed',\n",
              "       'Label'],\n",
              "      dtype='object', length=107)"
            ]
          },
          "metadata": {},
          "execution_count": 12
        }
      ]
    },
    {
      "cell_type": "code",
      "source": [
        "df[\"Label\"].unique()"
      ],
      "metadata": {
        "id": "xwm9Y1RHMdzD",
        "outputId": "6aa5d326-a0e8-4217-e802-d345b7454cf4",
        "colab": {
          "base_uri": "https://localhost:8080/"
        }
      },
      "execution_count": 13,
      "outputs": [
        {
          "output_type": "execute_result",
          "data": {
            "text/plain": [
              "array(['Susceptible', 'Resistant', nan, 'Intermediate'], dtype=object)"
            ]
          },
          "metadata": {},
          "execution_count": 13
        }
      ]
    },
    {
      "cell_type": "code",
      "source": [
        "df['Host Gender'].unique()"
      ],
      "metadata": {
        "id": "q8_eMP4LpVL4",
        "colab": {
          "base_uri": "https://localhost:8080/"
        },
        "outputId": "9c4c6ade-4604-4283-c6ee-7bc888a8f94a"
      },
      "execution_count": 14,
      "outputs": [
        {
          "output_type": "execute_result",
          "data": {
            "text/plain": [
              "array([nan, 'Female', 'Male', 'male', 'M', 'F', 'female'], dtype=object)"
            ]
          },
          "metadata": {},
          "execution_count": 14
        }
      ]
    },
    {
      "cell_type": "code",
      "source": [
        "df.columns"
      ],
      "metadata": {
        "id": "-S1K8sMfFZAE",
        "colab": {
          "base_uri": "https://localhost:8080/"
        },
        "outputId": "8610433c-bd33-4049-d935-b601f8f8c29b"
      },
      "execution_count": 15,
      "outputs": [
        {
          "output_type": "execute_result",
          "data": {
            "text/plain": [
              "Index(['Genome ID', 'Genome Name_x', 'Other Names', 'NCBI Taxon ID',\n",
              "       'Taxon Lineage IDs', 'Taxon Lineage Names', 'Superkingdom', 'Kingdom',\n",
              "       'Phylum', 'Class',\n",
              "       ...\n",
              "       'Vendor', 'Testing Standard', 'Testing Standard Year',\n",
              "       'Computational Method', 'Computational Method Version',\n",
              "       'Computational Method Performance', 'Evidence', 'Source', 'PubMed',\n",
              "       'Label'],\n",
              "      dtype='object', length=107)"
            ]
          },
          "metadata": {},
          "execution_count": 15
        }
      ]
    },
    {
      "cell_type": "code",
      "source": [
        "label = df.iloc[: , -1]\n",
        "print(label)"
      ],
      "metadata": {
        "id": "CUaalgzo0Oy7",
        "colab": {
          "base_uri": "https://localhost:8080/"
        },
        "outputId": "4c2d2445-45c3-402f-d025-3a9b91e27f65"
      },
      "execution_count": 16,
      "outputs": [
        {
          "output_type": "stream",
          "name": "stdout",
          "text": [
            "0         Susceptible\n",
            "1         Susceptible\n",
            "2         Susceptible\n",
            "3         Susceptible\n",
            "4         Susceptible\n",
            "             ...     \n",
            "197084    Susceptible\n",
            "197085    Susceptible\n",
            "197086    Susceptible\n",
            "197087      Resistant\n",
            "197088    Susceptible\n",
            "Name: Label, Length: 197089, dtype: object\n"
          ]
        }
      ]
    },
    {
      "cell_type": "code",
      "source": [
        "df[\"pH1N1-like\"]"
      ],
      "metadata": {
        "colab": {
          "base_uri": "https://localhost:8080/"
        },
        "id": "gsVxLWWxOm6q",
        "outputId": "f5ca39cc-a056-4137-9760-c8e53390704d"
      },
      "execution_count": 17,
      "outputs": [
        {
          "output_type": "execute_result",
          "data": {
            "text/plain": [
              "0        NaN\n",
              "1        NaN\n",
              "2        NaN\n",
              "3        NaN\n",
              "4        NaN\n",
              "          ..\n",
              "197084   NaN\n",
              "197085   NaN\n",
              "197086   NaN\n",
              "197087   NaN\n",
              "197088   NaN\n",
              "Name: pH1N1-like, Length: 197089, dtype: float64"
            ]
          },
          "metadata": {},
          "execution_count": 17
        }
      ]
    },
    {
      "cell_type": "markdown",
      "source": [
        "# **finding missing value with the  table **"
      ],
      "metadata": {
        "id": "1NuPNpZDhu2V"
      }
    },
    {
      "cell_type": "code",
      "source": [
        "def missing_zero_values_table(df):\n",
        "        zero_val = (df == 0.00).astype(int).sum(axis=0)\n",
        "        mis_val = df.isnull().sum()\n",
        "        mis_val_percent = 100 * df.isnull().sum() / len(df)\n",
        "        mz_table = pd.concat([zero_val, mis_val, mis_val_percent], axis=1)\n",
        "        mz_table = mz_table.rename(\n",
        "        columns = {0 : 'Zero Values', 1 : 'Missing Values', 2 : '% of Total Values'})\n",
        "        mz_table['Total Zero Missing Values'] = mz_table['Zero Values'] + mz_table['Missing Values']\n",
        "        mz_table['% Total Zero Missing Values'] = 100 * mz_table['Total Zero Missing Values'] / len(df)\n",
        "        mz_table['Data Type'] = df.dtypes\n",
        "        mz_table = mz_table[mz_table.iloc[:,1] != 0].sort_values('% of Total Values', ascending=False).round(1)\n",
        "        print (\"Your selected dataframe has \" + str(df.shape[1]) + \" columns and \" + str(df.shape[0]) + \" Rows.\\n\"      \n",
        "            \"There are \" + str(mz_table.shape[0]) +\" columns that have missing values.\")\n",
        "#         mz_table.to_excel('D:/sampledata/missing_and_zero_values.xlsx', freeze_panes=(1,0), index = False)\n",
        "        return mz_table\n",
        "\n",
        "missing_zero_values_table(df)"
      ],
      "metadata": {
        "colab": {
          "base_uri": "https://localhost:8080/",
          "height": 690
        },
        "id": "2kqdt7ZfaZvW",
        "outputId": "b31b626b-66ab-442b-888e-682c4a7d0bd1"
      },
      "execution_count": 18,
      "outputs": [
        {
          "output_type": "stream",
          "name": "stdout",
          "text": [
            "Your selected dataframe has 107 columns and 197089 Rows.\n",
            "There are 79 columns that have missing values.\n"
          ]
        },
        {
          "output_type": "execute_result",
          "data": {
            "text/plain": [
              "                      Zero Values  Missing Values  % of Total Values  \\\n",
              "Other Names                     0          197089              100.0   \n",
              "pH1N1-like                      0          197089              100.0   \n",
              "Mat Peptide                     0          197089              100.0   \n",
              "Genome Quality Flags            0          197089              100.0   \n",
              "Plasmids                        0          197089              100.0   \n",
              "...                           ...             ...                ...   \n",
              "Coarse Consistency              0            1235                0.6   \n",
              "Isolation Country               0             844                0.4   \n",
              "RRNA                            0              40                0.0   \n",
              "Contig L50                      0              16                0.0   \n",
              "Strain                          0              11                0.0   \n",
              "\n",
              "                      Total Zero Missing Values  % Total Zero Missing Values  \\\n",
              "Other Names                              197089                        100.0   \n",
              "pH1N1-like                               197089                        100.0   \n",
              "Mat Peptide                              197089                        100.0   \n",
              "Genome Quality Flags                     197089                        100.0   \n",
              "Plasmids                                 197089                        100.0   \n",
              "...                                         ...                          ...   \n",
              "Coarse Consistency                         1235                          0.6   \n",
              "Isolation Country                           844                          0.4   \n",
              "RRNA                                         40                          0.0   \n",
              "Contig L50                                   16                          0.0   \n",
              "Strain                                       11                          0.0   \n",
              "\n",
              "                     Data Type  \n",
              "Other Names            float64  \n",
              "pH1N1-like             float64  \n",
              "Mat Peptide            float64  \n",
              "Genome Quality Flags   float64  \n",
              "Plasmids               float64  \n",
              "...                        ...  \n",
              "Coarse Consistency     float64  \n",
              "Isolation Country       object  \n",
              "RRNA                   float64  \n",
              "Contig L50             float64  \n",
              "Strain                  object  \n",
              "\n",
              "[79 rows x 6 columns]"
            ],
            "text/html": [
              "\n",
              "  <div id=\"df-d4a46c4b-9d8b-483a-90c7-08c297005b12\">\n",
              "    <div class=\"colab-df-container\">\n",
              "      <div>\n",
              "<style scoped>\n",
              "    .dataframe tbody tr th:only-of-type {\n",
              "        vertical-align: middle;\n",
              "    }\n",
              "\n",
              "    .dataframe tbody tr th {\n",
              "        vertical-align: top;\n",
              "    }\n",
              "\n",
              "    .dataframe thead th {\n",
              "        text-align: right;\n",
              "    }\n",
              "</style>\n",
              "<table border=\"1\" class=\"dataframe\">\n",
              "  <thead>\n",
              "    <tr style=\"text-align: right;\">\n",
              "      <th></th>\n",
              "      <th>Zero Values</th>\n",
              "      <th>Missing Values</th>\n",
              "      <th>% of Total Values</th>\n",
              "      <th>Total Zero Missing Values</th>\n",
              "      <th>% Total Zero Missing Values</th>\n",
              "      <th>Data Type</th>\n",
              "    </tr>\n",
              "  </thead>\n",
              "  <tbody>\n",
              "    <tr>\n",
              "      <th>Other Names</th>\n",
              "      <td>0</td>\n",
              "      <td>197089</td>\n",
              "      <td>100.0</td>\n",
              "      <td>197089</td>\n",
              "      <td>100.0</td>\n",
              "      <td>float64</td>\n",
              "    </tr>\n",
              "    <tr>\n",
              "      <th>pH1N1-like</th>\n",
              "      <td>0</td>\n",
              "      <td>197089</td>\n",
              "      <td>100.0</td>\n",
              "      <td>197089</td>\n",
              "      <td>100.0</td>\n",
              "      <td>float64</td>\n",
              "    </tr>\n",
              "    <tr>\n",
              "      <th>Mat Peptide</th>\n",
              "      <td>0</td>\n",
              "      <td>197089</td>\n",
              "      <td>100.0</td>\n",
              "      <td>197089</td>\n",
              "      <td>100.0</td>\n",
              "      <td>float64</td>\n",
              "    </tr>\n",
              "    <tr>\n",
              "      <th>Genome Quality Flags</th>\n",
              "      <td>0</td>\n",
              "      <td>197089</td>\n",
              "      <td>100.0</td>\n",
              "      <td>197089</td>\n",
              "      <td>100.0</td>\n",
              "      <td>float64</td>\n",
              "    </tr>\n",
              "    <tr>\n",
              "      <th>Plasmids</th>\n",
              "      <td>0</td>\n",
              "      <td>197089</td>\n",
              "      <td>100.0</td>\n",
              "      <td>197089</td>\n",
              "      <td>100.0</td>\n",
              "      <td>float64</td>\n",
              "    </tr>\n",
              "    <tr>\n",
              "      <th>...</th>\n",
              "      <td>...</td>\n",
              "      <td>...</td>\n",
              "      <td>...</td>\n",
              "      <td>...</td>\n",
              "      <td>...</td>\n",
              "      <td>...</td>\n",
              "    </tr>\n",
              "    <tr>\n",
              "      <th>Coarse Consistency</th>\n",
              "      <td>0</td>\n",
              "      <td>1235</td>\n",
              "      <td>0.6</td>\n",
              "      <td>1235</td>\n",
              "      <td>0.6</td>\n",
              "      <td>float64</td>\n",
              "    </tr>\n",
              "    <tr>\n",
              "      <th>Isolation Country</th>\n",
              "      <td>0</td>\n",
              "      <td>844</td>\n",
              "      <td>0.4</td>\n",
              "      <td>844</td>\n",
              "      <td>0.4</td>\n",
              "      <td>object</td>\n",
              "    </tr>\n",
              "    <tr>\n",
              "      <th>RRNA</th>\n",
              "      <td>0</td>\n",
              "      <td>40</td>\n",
              "      <td>0.0</td>\n",
              "      <td>40</td>\n",
              "      <td>0.0</td>\n",
              "      <td>float64</td>\n",
              "    </tr>\n",
              "    <tr>\n",
              "      <th>Contig L50</th>\n",
              "      <td>0</td>\n",
              "      <td>16</td>\n",
              "      <td>0.0</td>\n",
              "      <td>16</td>\n",
              "      <td>0.0</td>\n",
              "      <td>float64</td>\n",
              "    </tr>\n",
              "    <tr>\n",
              "      <th>Strain</th>\n",
              "      <td>0</td>\n",
              "      <td>11</td>\n",
              "      <td>0.0</td>\n",
              "      <td>11</td>\n",
              "      <td>0.0</td>\n",
              "      <td>object</td>\n",
              "    </tr>\n",
              "  </tbody>\n",
              "</table>\n",
              "<p>79 rows × 6 columns</p>\n",
              "</div>\n",
              "      <button class=\"colab-df-convert\" onclick=\"convertToInteractive('df-d4a46c4b-9d8b-483a-90c7-08c297005b12')\"\n",
              "              title=\"Convert this dataframe to an interactive table.\"\n",
              "              style=\"display:none;\">\n",
              "        \n",
              "  <svg xmlns=\"http://www.w3.org/2000/svg\" height=\"24px\"viewBox=\"0 0 24 24\"\n",
              "       width=\"24px\">\n",
              "    <path d=\"M0 0h24v24H0V0z\" fill=\"none\"/>\n",
              "    <path d=\"M18.56 5.44l.94 2.06.94-2.06 2.06-.94-2.06-.94-.94-2.06-.94 2.06-2.06.94zm-11 1L8.5 8.5l.94-2.06 2.06-.94-2.06-.94L8.5 2.5l-.94 2.06-2.06.94zm10 10l.94 2.06.94-2.06 2.06-.94-2.06-.94-.94-2.06-.94 2.06-2.06.94z\"/><path d=\"M17.41 7.96l-1.37-1.37c-.4-.4-.92-.59-1.43-.59-.52 0-1.04.2-1.43.59L10.3 9.45l-7.72 7.72c-.78.78-.78 2.05 0 2.83L4 21.41c.39.39.9.59 1.41.59.51 0 1.02-.2 1.41-.59l7.78-7.78 2.81-2.81c.8-.78.8-2.07 0-2.86zM5.41 20L4 18.59l7.72-7.72 1.47 1.35L5.41 20z\"/>\n",
              "  </svg>\n",
              "      </button>\n",
              "      \n",
              "  <style>\n",
              "    .colab-df-container {\n",
              "      display:flex;\n",
              "      flex-wrap:wrap;\n",
              "      gap: 12px;\n",
              "    }\n",
              "\n",
              "    .colab-df-convert {\n",
              "      background-color: #E8F0FE;\n",
              "      border: none;\n",
              "      border-radius: 50%;\n",
              "      cursor: pointer;\n",
              "      display: none;\n",
              "      fill: #1967D2;\n",
              "      height: 32px;\n",
              "      padding: 0 0 0 0;\n",
              "      width: 32px;\n",
              "    }\n",
              "\n",
              "    .colab-df-convert:hover {\n",
              "      background-color: #E2EBFA;\n",
              "      box-shadow: 0px 1px 2px rgba(60, 64, 67, 0.3), 0px 1px 3px 1px rgba(60, 64, 67, 0.15);\n",
              "      fill: #174EA6;\n",
              "    }\n",
              "\n",
              "    [theme=dark] .colab-df-convert {\n",
              "      background-color: #3B4455;\n",
              "      fill: #D2E3FC;\n",
              "    }\n",
              "\n",
              "    [theme=dark] .colab-df-convert:hover {\n",
              "      background-color: #434B5C;\n",
              "      box-shadow: 0px 1px 3px 1px rgba(0, 0, 0, 0.15);\n",
              "      filter: drop-shadow(0px 1px 2px rgba(0, 0, 0, 0.3));\n",
              "      fill: #FFFFFF;\n",
              "    }\n",
              "  </style>\n",
              "\n",
              "      <script>\n",
              "        const buttonEl =\n",
              "          document.querySelector('#df-d4a46c4b-9d8b-483a-90c7-08c297005b12 button.colab-df-convert');\n",
              "        buttonEl.style.display =\n",
              "          google.colab.kernel.accessAllowed ? 'block' : 'none';\n",
              "\n",
              "        async function convertToInteractive(key) {\n",
              "          const element = document.querySelector('#df-d4a46c4b-9d8b-483a-90c7-08c297005b12');\n",
              "          const dataTable =\n",
              "            await google.colab.kernel.invokeFunction('convertToInteractive',\n",
              "                                                     [key], {});\n",
              "          if (!dataTable) return;\n",
              "\n",
              "          const docLinkHtml = 'Like what you see? Visit the ' +\n",
              "            '<a target=\"_blank\" href=https://colab.research.google.com/notebooks/data_table.ipynb>data table notebook</a>'\n",
              "            + ' to learn more about interactive tables.';\n",
              "          element.innerHTML = '';\n",
              "          dataTable['output_type'] = 'display_data';\n",
              "          await google.colab.output.renderOutput(dataTable, element);\n",
              "          const docLink = document.createElement('div');\n",
              "          docLink.innerHTML = docLinkHtml;\n",
              "          element.appendChild(docLink);\n",
              "        }\n",
              "      </script>\n",
              "    </div>\n",
              "  </div>\n",
              "  "
            ]
          },
          "metadata": {},
          "execution_count": 18
        }
      ]
    },
    {
      "cell_type": "code",
      "source": [
        "# df.drop(['Genome ID'], axis = 1, inplace = True)\n",
        " #Check to see if Id has been removed. df.columns\n",
        "# df.drop(['Serovar','Biovar','MLST','Pathovar','Altitude'], axis = 1, inplace = True)\n",
        "# df.drop(['Latitude','Longitude', 'Other Environmental', 'Depth','Body Sample Subsite','Reference'], axis = 1, inplace = True)\n",
        "# df.drop(['PATRIC CDS'], axis = 1, inplace = True)\n",
        "# df.drop(['NCBI Taxon ID', 'Host Name'], axis = 1, inplace = True)\n",
        "list_of_features = [\"Geographic Group\t\",\"Collection Year\",\"Laboratory Typing Method\",\"SRA Accession\",\"Geographic Location\",\"\",,,,,,,,,]"
      ],
      "metadata": {
        "id": "PpGrL4_ARtGA",
        "colab": {
          "base_uri": "https://localhost:8080/",
          "height": 133
        },
        "outputId": "a02309c8-a663-4e73-9145-dbe5d593f81b"
      },
      "execution_count": 19,
      "outputs": [
        {
          "output_type": "error",
          "ename": "SyntaxError",
          "evalue": "ignored",
          "traceback": [
            "\u001b[0;36m  File \u001b[0;32m\"<ipython-input-19-e2f0bc81a272>\"\u001b[0;36m, line \u001b[0;32m7\u001b[0m\n\u001b[0;31m    list_of_features = [\"Geographic Group\t\",\"Collection Year\",\"Laboratory Typing Method\",\"SRA Accession\",\"Geographic Location\",\"\",,,,,,,,,]\u001b[0m\n\u001b[0m                                         \t                                                                                        ^\u001b[0m\n\u001b[0;31mSyntaxError\u001b[0m\u001b[0;31m:\u001b[0m invalid syntax\n"
          ]
        }
      ]
    },
    {
      "cell_type": "markdown",
      "source": [
        "case deleting , "
      ],
      "metadata": {
        "id": "eIaI1-3VlXhD"
      }
    },
    {
      "cell_type": "markdown",
      "source": [
        "missing data imputation "
      ],
      "metadata": {
        "id": "QRrRtj7Fle9V"
      }
    },
    {
      "cell_type": "markdown",
      "source": [
        "\n",
        "SOM (Self-Organizing Maps) : is a type of artifi cial neural networks\n"
      ],
      "metadata": {
        "id": "ZurTqSsLleo0"
      }
    },
    {
      "cell_type": "markdown",
      "source": [
        "# **Feature Selection**"
      ],
      "metadata": {
        "id": "uil-s8O5tM6T"
      }
    },
    {
      "cell_type": "code",
      "source": [
        " new_select = [('Size', 'Chromosome', 'Plasmids', 'Contigs', 'Optimal Temperature', 'Temperature Range', 'Geographic Group','Antibiotic', 'Host Health', 'Species',  \n",
        "              'Host Gender', 'Host Age', 'Host Health','Gram Stain','Cell Shape','Geographic Location', 'Oxygen Requirement', 'Label')]\n",
        " newDf = pd.DataFrame(new_select)\n",
        " newDf.head"
      ],
      "metadata": {
        "id": "YOGiZtJxafnY"
      },
      "execution_count": null,
      "outputs": []
    },
    {
      "cell_type": "markdown",
      "source": [
        "acumlate local effect "
      ],
      "metadata": {
        "id": "WubmOBs-NQNg"
      }
    },
    {
      "cell_type": "code",
      "source": [
        "# Recursive Feature Elimination\n",
        "\n",
        "\n",
        "# create a base classifier used to evaluate a subset of attributes\n",
        "model = LogisticRegression()\n",
        "# create the RFE model and select 3 attributes\n",
        " rfe = RFE(model, 12)\n",
        " rfe = rfe.fit(df.data, df.target)\n",
        "# summarize the selection of the attributes\n",
        "print(rfe.support_)\n",
        "print(rfe.ranking_)"
      ],
      "metadata": {
        "id": "44F9Zu09sSs7"
      },
      "execution_count": null,
      "outputs": []
    },
    {
      "cell_type": "markdown",
      "source": [
        "# **find the percentage of missing dataset** \n"
      ],
      "metadata": {
        "id": "5lS_2flwcAp0"
      }
    },
    {
      "cell_type": "code",
      "source": [
        "# newDf = newDf.replace(0, np.NaN)\n",
        "# newDf = newDf.replace(0.0, np.NaN)\n",
        "# # count the number of NaN values in each column\n",
        "# print(newDf.isnull().sum())\n",
        "\n",
        "\n",
        "percent_missing = newDf.isnull().sum() * 100 / len(newDf)\n",
        "print(percent_missing)"
      ],
      "metadata": {
        "id": "uA6vSu8YLxux"
      },
      "execution_count": null,
      "outputs": []
    },
    {
      "cell_type": "code",
      "source": [
        "# newDf = newDf.replace(0, np.NaN , inplace= True))\n",
        "# newDf = newDf.replace(0.0, np.NaN, inplace= True))\n",
        "# # count the number of NaN values in each column\n",
        "# print(newDf.isnull().sum())"
      ],
      "metadata": {
        "id": "33FHNSOGQkzX"
      },
      "execution_count": null,
      "outputs": []
    },
    {
      "cell_type": "code",
      "source": [
        "# percent_missing = df.isnull().sum() * 100 / len(df)\n",
        "# missing_value_df = pd.DataFrame({'column_name': df.columns,\n",
        "#                                  'percent_missing': percent_missing})\n",
        "# missing_value_df.sort_values('percent_missing', inplace=True)\n",
        "\n",
        "\n",
        "# percent_missing = newDf.isnull().sum() * 100 / len(newDf)\n",
        "# print(percent_missing)"
      ],
      "metadata": {
        "id": "r_c2mF7LcJIg"
      },
      "execution_count": null,
      "outputs": []
    },
    {
      "cell_type": "code",
      "source": [
        "# drop rows with missing values\n",
        "newDf.dropna(inplace=True)\n",
        "print(f'The dataset has {newDf.shape[1]} columns and {newDf.shape[0]} rows.')"
      ],
      "metadata": {
        "id": "PTuEqSSiSNDx"
      },
      "execution_count": null,
      "outputs": []
    },
    {
      "cell_type": "code",
      "source": [
        "print(newDf.shape)"
      ],
      "metadata": {
        "id": "yDEn1yGcZtf6"
      },
      "execution_count": null,
      "outputs": []
    },
    {
      "cell_type": "markdown",
      "source": [
        "as learning documents\n",
        "\n",
        "Algorithms that Support Missing Values like k-nearst neighbor and **Naive Bayes is good option ,it can  support missing values when making a prediction.** \n",
        " we have a variety of possibilities to replacing a missing value,\n",
        "such as:\n",
        "        Ignoring and Discarding Data (deleting instances and=or attributes)\n",
        "        Parameter Estimation. Maximum likelihood procedures are used to estimate the parameters of a model\n",
        "        constant value, such as 0, that is different from all other values.\n",
        "        Imputation. Imputation is a class of procedures (replacing missing values with estimated ones)\n",
        "        A value from a different record that was chosen at random.\n",
        "        The column's mean, median, or mode value.[by the mean (if the attribute is quantitative) or mode (if the attribute is qualitative)]\n",
        "\n",
        "*   We conclude from the results that the performance of the classifiers and imputation strategies generally depend on the nature and proportion of missing data\n",
        "\n",
        "\n",
        "\n",
        "\n",
        "\n",
        "\n"
      ],
      "metadata": {
        "id": "969bslfs66yc"
      }
    },
    {
      "cell_type": "markdown",
      "source": [],
      "metadata": {
        "id": "hnkvCUGPxc_2"
      }
    },
    {
      "cell_type": "markdown",
      "source": [
        "# When ffill() is applied across the index then any missing value is filled based on the corresponding value in the previous row. but because the missing value is more than we expected ????????????:"
      ],
      "metadata": {
        "id": "D1fuoQ4aFP8V"
      }
    },
    {
      "cell_type": "code",
      "source": [
        "#Forward fill, fills the missing value with the values above it.\n",
        "\n",
        "# data.fillna(method=\"ffill\") \n",
        "\n",
        "#Back fill, fills the missing value with the values below it.\n",
        "\n",
        "# data.fillna(method=\"bfill\") \n",
        " \n",
        "#Interploation finds the average for the above and below value and uses the value to fill the missing value\n",
        "\n",
        "# data.interpolate()"
      ],
      "metadata": {
        "id": "msDmMkKKMjAp"
      },
      "execution_count": null,
      "outputs": []
    },
    {
      "cell_type": "code",
      "source": [
        "# df.fillna(method= 'ffill', inplace = True)"
      ],
      "metadata": {
        "id": "1Owi5VWqFkM3"
      },
      "execution_count": null,
      "outputs": []
    },
    {
      "cell_type": "markdown",
      "source": [
        " if i filled the missing values with  0 , instead of droping the data !!!!!!!!!!! "
      ],
      "metadata": {
        "id": "41ZW95lj_Y1f"
      }
    },
    {
      "cell_type": "code",
      "source": [
        "# newDf = df.fillna(method='ffill', axis=1)"
      ],
      "metadata": {
        "id": "z9OmW6WJdWK5"
      },
      "execution_count": null,
      "outputs": []
    },
    {
      "cell_type": "code",
      "source": [
        "# newDf.info()"
      ],
      "metadata": {
        "id": "_AhLVfspkgte"
      },
      "execution_count": null,
      "outputs": []
    },
    {
      "cell_type": "code",
      "source": [
        "df.describe()"
      ],
      "metadata": {
        "id": "9SjdDyfqrqWk"
      },
      "execution_count": null,
      "outputs": []
    },
    {
      "cell_type": "code",
      "source": [
        "print(label)"
      ],
      "metadata": {
        "id": "bx6eAffaefZY"
      },
      "execution_count": null,
      "outputs": []
    },
    {
      "cell_type": "code",
      "source": [
        "for i in newDf.columns:\n",
        "    if len(newDf[i].unique()) < 20:\n",
        "        #Print features with discrete values.\n",
        "        print(f'{i} has values {newDf[i].unique()}, {len(newDf[i].unique())} values total.')\n"
      ],
      "metadata": {
        "id": "mQ7gbwAPfVqL"
      },
      "execution_count": null,
      "outputs": []
    },
    {
      "cell_type": "code",
      "source": [
        "newDf.columns"
      ],
      "metadata": {
        "id": "DzzNk9g3zx9K"
      },
      "execution_count": null,
      "outputs": []
    },
    {
      "cell_type": "code",
      "source": [
        "newDf['Antimicrobial Resistance Evidence'].unique()"
      ],
      "metadata": {
        "id": "dUZHzax1zh8C"
      },
      "execution_count": null,
      "outputs": []
    },
    {
      "cell_type": "code",
      "source": [
        "df['Label'].value_counts()"
      ],
      "metadata": {
        "id": "tYTwTU2TCqHd"
      },
      "execution_count": null,
      "outputs": []
    },
    {
      "cell_type": "code",
      "source": [
        "newDf['Label'].value_counts()"
      ],
      "metadata": {
        "id": "TfXYudFPwH-w"
      },
      "execution_count": null,
      "outputs": []
    },
    {
      "cell_type": "code",
      "source": [
        "newDf['Label'] = newDf['Label'].replace('Resistant;Susceptible','Resistant')\n",
        "print(newDf)"
      ],
      "metadata": {
        "id": "5_q1msswCzjb"
      },
      "execution_count": null,
      "outputs": []
    },
    {
      "cell_type": "code",
      "source": [
        "newDf['Label'] = newDf['Label'].replace('Resistant;Susceptible','Resistant')\n",
        "print(newDf)"
      ],
      "metadata": {
        "id": "lWUoNWIrC8Y5"
      },
      "execution_count": null,
      "outputs": []
    },
    {
      "cell_type": "code",
      "source": [
        "df['Label'] = df['Label'].replace('Resistant;Susceptible','Resistant')\n",
        "print(df)"
      ],
      "metadata": {
        "id": "TZ_WQXQKm56l"
      },
      "execution_count": null,
      "outputs": []
    },
    {
      "cell_type": "code",
      "source": [
        "df['Label'] = df['Label'].replace('Susceptible;Resistant','Susceptible')\n",
        "print(df)"
      ],
      "metadata": {
        "id": "zYv2sdCtoO1a"
      },
      "execution_count": null,
      "outputs": []
    },
    {
      "cell_type": "code",
      "source": [
        "# df3=newDf.drop([0], axis = 0)\n",
        "# print(df3)"
      ],
      "metadata": {
        "id": "inyVpyBgDIWB"
      },
      "execution_count": null,
      "outputs": []
    },
    {
      "cell_type": "code",
      "source": [
        "# df2=df.drop([0], axis = 0)\n",
        "# print(df2)"
      ],
      "metadata": {
        "id": "ZiBkhmCepEwi"
      },
      "execution_count": null,
      "outputs": []
    },
    {
      "cell_type": "markdown",
      "source": [
        "**Data type** \n",
        "need to covert the data set to the same type \n"
      ],
      "metadata": {
        "id": "khUEr9AqOUul"
      }
    },
    {
      "cell_type": "code",
      "source": [
        "data = data.astype({\"age\": np.float64, \"sex\": np.float64})"
      ],
      "metadata": {
        "id": "baTGammHOgvG"
      },
      "execution_count": null,
      "outputs": []
    },
    {
      "cell_type": "markdown",
      "source": [
        "**Visualise frequency distribution.**"
      ],
      "metadata": {
        "id": "Ufw4oc8wIYUD"
      }
    },
    {
      "cell_type": "code",
      "source": [
        "df['Host Gender'].value_counts()"
      ],
      "metadata": {
        "id": "e7IItZa7tp5j"
      },
      "execution_count": null,
      "outputs": []
    },
    {
      "cell_type": "code",
      "source": [
        "hgs = df['Host Gender'].to_list()"
      ],
      "metadata": {
        "id": "xvGzUIAPt7bj"
      },
      "execution_count": null,
      "outputs": []
    },
    {
      "cell_type": "code",
      "source": [
        "set(hgs)"
      ],
      "metadata": {
        "id": "ePKeQWnbuOdK"
      },
      "execution_count": null,
      "outputs": []
    },
    {
      "cell_type": "code",
      "source": [
        "\n",
        "hgs = df['Host Gender'].to_list()\n",
        "def Host_GenderChanges(hgs):\n",
        "  if hgs == 'Male' or hgs == 'male' or hgs == 'M':\n",
        "    return 'Male'\n",
        "  elif hgs == 'Female' or hgs == 'female' or hgs == 'F':\n",
        "    return 'Female'\n",
        "  else :\n",
        "    return 'Unknown'\n",
        "\n",
        "# applying the change to the gender coloumn\n",
        "df['Host Gender'] = df['Host Gender'].apply(Host_GenderChanges) "
      ],
      "metadata": {
        "id": "aHX3howjlF2q"
      },
      "execution_count": null,
      "outputs": []
    },
    {
      "cell_type": "code",
      "source": [
        "df['Host Gender'].unique()"
      ],
      "metadata": {
        "id": "qacMv008MCRK"
      },
      "execution_count": null,
      "outputs": []
    },
    {
      "cell_type": "code",
      "source": [
        "df['Host Age'].unique()"
      ],
      "metadata": {
        "id": "Z3jymMz7Syjs"
      },
      "execution_count": null,
      "outputs": []
    },
    {
      "cell_type": "code",
      "source": [
        "#print('Min age: ', df['Host Age'].max())\n",
        "#print('Max age: ', df['Host Age'].min())\n",
        "#print('Null Values: ', df['Host Age'].isnull().any())"
      ],
      "metadata": {
        "id": "ED9TqzzrCPdC"
      },
      "execution_count": null,
      "outputs": []
    },
    {
      "cell_type": "code",
      "source": [
        "fig, (ax1, ax2) = plt.subplots(nrows = 1, ncols = 2, figsize = (13, 5))\n",
        "sns.boxplot(x = df['Host Age'], data = df, orient = 'v', ax = ax1)\n",
        "ax1.set_xlabel('People Age', fontsize=15)\n",
        "ax1.set_ylabel(df['Host Age'], fontsize=15)\n",
        "ax1.set_title('Age Distribution', fontsize=15)\n",
        "ax1.tick_params(labelsize=15)\n",
        "\n",
        "sns.distplot(df['Host Age'], ax = ax2)\n",
        "sns.despine(ax = ax2)\n",
        "ax2.set_xlabel(df['Host Age'], fontsize=15)\n",
        "ax2.set_ylabel('Occurence', fontsize=15)\n",
        "ax2.set_title('df['Host Age'] x Ocucurence', fontsize=15)\n",
        "ax2.tick_params(labelsize=15)\n",
        "\n",
        "plt.subplots_adjust(wspace=0.5)\n",
        "plt.tight_layout()"
      ],
      "metadata": {
        "id": "UpeIx0l1ArIW"
      },
      "execution_count": null,
      "outputs": []
    },
    {
      "cell_type": "code",
      "source": [
        "df['Host Age'].value_counts()"
      ],
      "metadata": {
        "id": "HYRdt-60KM4E"
      },
      "execution_count": null,
      "outputs": []
    },
    {
      "cell_type": "code",
      "source": [
        "# df['Host Age New'] = ['<18'  in x else '>=18 for x in idx]\n",
        "idx =[]\n",
        "for idx, i in enumerate(df['Host Age']):\n",
        "  if df['Host Age'][idx] != \"nan\":\n",
        "    if type(df['Host Age'][idx]) != str:\n",
        "      print(type(df['Host Age'][idx]))\n",
        "      if df['Host Age'][idx] >=18:\n",
        "        df['Host Age'][idx] = '>=18'\n",
        "      elif df['Host Age'][idx] <18:\n",
        "        df['Host Age'][idx] = '<18'\n",
        "        print(\"HIIIIIIIII\")\n",
        "    elif type(df['Host Age'][idx]) == str:\n",
        "      if \"month\" in df['Host Age'][idx]:\n",
        "        df['Host Age'][idx] = '<18'\n",
        "      elif '<18' in df['Host Age'][idx]:\n",
        "          df['Host Age'][idx] = '<18'\n",
        "      # elif df['Host Age'][idx] == \">=18\":\n",
        "      else:\n",
        "        df['Host Age'][idx] = '>=18'\n",
        "      # elif \"month\" not in df['Host Age'][idx]:\n",
        "      #   df['Host Age'][idx] = \">=18\"\n",
        "\n",
        "  else:\n",
        "    continue\n",
        "\n",
        "\n",
        "      # elif df['Host Age'][idx] == \"Adult\":\n",
        "      #   df['Host Age'][idx] = \">=18\"\n",
        "      # elif df['Host Age'][idx] == \"33y\":\n",
        "      #   df['Host Age'][idx] = \">=18\"\n",
        "      # elif df['Host Age'][idx] == \"4 months\":\n",
        "      #   df['Host Age'][idx] = \"<18\"\n",
        "      # elif df['Host Age'][idx] == \"8 months 1o days\":\n",
        "      #   df['Host Age'][idx] = \"<18\"\n",
        "\n",
        "  \n",
        "  # s.rename({1: 3, 2: 5})\n",
        "# s = s.apply(lambda x: '>=18' if (x >= 18) else '<18')\n",
        "# s.unique()"
      ],
      "metadata": {
        "id": "4r80te-xdIHT"
      },
      "execution_count": null,
      "outputs": []
    },
    {
      "cell_type": "code",
      "source": [
        "df['Host Age'].value_counts()\n"
      ],
      "metadata": {
        "id": "xVtGDdLOijL3"
      },
      "execution_count": null,
      "outputs": []
    },
    {
      "cell_type": "code",
      "source": [
        "df['Host Age'] = df['Host Age'].replace('Adult','>=18')\n",
        "print(df)"
      ],
      "metadata": {
        "id": "ALuTa3ymV40M"
      },
      "execution_count": null,
      "outputs": []
    },
    {
      "cell_type": "code",
      "source": [
        "sns.set_style('darkgrid')\n",
        "sns.set(rc = {'figure.figsize' : (50, 5)})\n",
        "#Make 8 bar graphs in one go.\n",
        "fig, axs = plt.subplots(ncols=8)   \n",
        "sns.countplot(x = \"Host Age\", data = df, ax = axs[0])\n",
        "sns.countplot(x = \"Label\", data = df, ax = axs[1]) \n",
        "sns.countplot(x = df['Host Gender'], data = df, ax = axs[2])\n",
        "sns.countplot(x = df['Size'], data = df, ax = axs[3])\n",
        "sns.countplot(x = df['Optimal Temperature'], data = df, ax = axs[4])\n",
        "sns.countplot(x = df['Chromosome'], data = df, ax = axs[5])\n",
        "sns.countplot(x = df['Plasmids'], data = df, ax = axs[6])\n",
        "sns.countplot(x = df['Contigs'], data = df, ax = axs[7])\n",
        "plt.show()"
      ],
      "metadata": {
        "id": "QNX8bpMEruZE"
      },
      "execution_count": null,
      "outputs": []
    },
    {
      "cell_type": "markdown",
      "source": [
        "** how certain columns of the dataset relate to survivability**"
      ],
      "metadata": {
        "id": "CcEO0FUnQA5Y"
      }
    },
    {
      "cell_type": "code",
      "source": [
        "fig, axs = plt.subplots(ncols=5, figsize=(30,5))\n",
        "sns.violinplot(x=\"Host Age\", y=\"age\", hue=\"Label\", data=df, ax=axs[0])\n",
        "sns.pointplot(x = df['Host Gender']\", y=\"survived\", hue=\"Label\", data=df, ax=axs[1])\n",
        "sns.pointplot(x = df['Size'], y=\"survived\", hue=\"Label\", data=df, ax=axs[2])\n",
        "sns.pointplot(x = df['Optimal Temperature'], y=\"survived\", hue=\"Label\", data=df, ax=axs[3])\n",
        "sns.violinplot(x = df['Chromosome'], y=\"fare\", hue=\"Label\", data=df, ax=axs[4])\n",
        "plt.show()"
      ],
      "metadata": {
        "id": "8oJJvV2fPw9o"
      },
      "execution_count": null,
      "outputs": []
    },
    {
      "cell_type": "markdown",
      "source": [
        "Class Distribution Check the class distribution for imbalance\n"
      ],
      "metadata": {
        "id": "nGD_Xa8XYBzH"
      }
    },
    {
      "cell_type": "code",
      "source": [
        "df[\"Label\"].unique()"
      ],
      "metadata": {
        "id": "InW6N2Arr-1E"
      },
      "execution_count": null,
      "outputs": []
    },
    {
      "cell_type": "markdown",
      "source": [
        " The code below shows the percentage of Mycobacterium which resistance toward the antibiotics , it is displaying the data **is imbalanced **"
      ],
      "metadata": {
        "id": "ZzZttANGoK4F"
      }
    },
    {
      "cell_type": "code",
      "source": [
        "AM_Resistant = len(df[df.Label == 'Resistant'])\n",
        "AM_Susceptible = len(df[df.Label == 'Susceptible'])                             \n",
        "print(f'{round(AM_Resistant/df.shape[0] * 100, 2)}% of AM_resistance.')\n",
        "print(f'{round(AM_Susceptible/ df.shape[0] * 100, 2)}% of AM_susceptible.')"
      ],
      "metadata": {
        "id": "Jh99hCmckEbt"
      },
      "execution_count": null,
      "outputs": []
    },
    {
      "cell_type": "markdown",
      "source": [
        "# **Changing Lable to binary **\n",
        "The lable of the dataset has the value of 'Resistant' and 'Susceptible'\n",
        ".it would be necessary to change them to the value of 0 for 'Resistant' and 1 for 'Susceptible' . \n"
      ],
      "metadata": {
        "id": "twTqPr6wxiyZ"
      }
    },
    {
      "cell_type": "code",
      "source": [
        "# creating a function to change the lable to a binary 0 and 1 \n",
        "def Lablechange(Lable):\n",
        "  if Lable == 'Resistant':\n",
        "    return 0 \n",
        "  elif Lable == 'Susceptible':\n",
        "    return 1\n",
        "  else :\n",
        "    return None "
      ],
      "metadata": {
        "id": "Zriw6pjSxhf9"
      },
      "execution_count": null,
      "outputs": []
    },
    {
      "cell_type": "code",
      "source": [
        "df[\"Label\"] = df[\"Label\"].apply(Lablechange)"
      ],
      "metadata": {
        "id": "QrtMe8ob6LO-"
      },
      "execution_count": null,
      "outputs": []
    },
    {
      "cell_type": "code",
      "source": [
        "newDf[\"Label\"] = newDf[\"Label\"].apply(Lablechange)"
      ],
      "metadata": {
        "id": "L0v2lBC0GFfp"
      },
      "execution_count": null,
      "outputs": []
    },
    {
      "cell_type": "code",
      "source": [
        "Host_Gender = df['Host Gender']"
      ],
      "metadata": {
        "id": "Rlb5jehLeJPL"
      },
      "execution_count": null,
      "outputs": []
    },
    {
      "cell_type": "code",
      "source": [
        "# creating a function to change the 'Host Gender' to a binary 0 and 1 \n",
        "def Host_GenderChanges(Host_Gender):\n",
        "  if Host_Gender == 'Male':\n",
        "    return 0 \n",
        "  elif Host_Gender == 'Female':\n",
        "    return 1\n",
        "  elif Host_Gender == 'Unknown':\n",
        "    return 2\n",
        "  else :\n",
        "    return None"
      ],
      "metadata": {
        "id": "mIh4Xfqtdbi0"
      },
      "execution_count": null,
      "outputs": []
    },
    {
      "cell_type": "markdown",
      "source": [
        "**Fixing the data errors**[link text](https://)"
      ],
      "metadata": {
        "id": "k_rzU3UZThJG"
      }
    },
    {
      "cell_type": "code",
      "source": [],
      "metadata": {
        "id": "Qo0xcpsRTZTZ"
      },
      "execution_count": null,
      "outputs": []
    },
    {
      "cell_type": "markdown",
      "source": [
        "**Data Pre-processing**\n",
        "\n",
        "Before the model can be built using the data, the data needs to be processed, so that it’s clean"
      ],
      "metadata": {
        "id": "cZIpLlBC6mVX"
      }
    },
    {
      "cell_type": "markdown",
      "source": [
        "**Missing Value**\n",
        "Check for missing values to see if they need to be filled in\n",
        "as found in the data exploration  of the dataset , most of columns have a large amount of missing data. however dropping them from the dataset or even filled them with mean value  won't help us to find optimal prediction . "
      ],
      "metadata": {
        "id": "8hVNQDYgCHXA"
      }
    },
    {
      "cell_type": "code",
      "source": [
        "df.isnull().sum()"
      ],
      "metadata": {
        "id": "PH4bXB4ADe8z"
      },
      "execution_count": null,
      "outputs": []
    },
    {
      "cell_type": "code",
      "source": [
        "newDf.isnull().sum()"
      ],
      "metadata": {
        "id": "CFvTvH5aCEEw"
      },
      "execution_count": null,
      "outputs": []
    },
    {
      "cell_type": "markdown",
      "source": [
        "**Check correlation between some of the features**"
      ],
      "metadata": {
        "id": "e79ITibisjGh"
      }
    },
    {
      "cell_type": "markdown",
      "source": [
        "The term \"**correlation**\" refers to the statistical association between two variables. A correlation could be positive or negative, indicating that when one variable's value changes, the other variables' values change in the opposite manner."
      ],
      "metadata": {
        "id": "ShzK10ICGpyn"
      }
    },
    {
      "cell_type": "code",
      "source": [
        "#Visualize correlation between features.\n",
        "sns.pairplot(df[[\"Host Age\", 'Host Gender', 'Size', \"Label\"]], hue = \"Label\")\n",
        "plt.show()"
      ],
      "metadata": {
        "id": "6UEsjZjNspnq"
      },
      "execution_count": null,
      "outputs": []
    },
    {
      "cell_type": "markdown",
      "source": [
        "**Editing Features**\n",
        "\n",
        "The unique values that are not mentioned in the dataset description will be moved into the “Other” value, since they appear very infrequently in the dataset"
      ],
      "metadata": {
        "id": "-tu4MDWnDwt6"
      }
    },
    {
      "cell_type": "code",
      "source": [
        "#Change categorical values by replacing them.\n",
        "# df['Host Gender'].replace([0,1],2, inplace=True) \n",
        "#4 = Other\n",
        "#df[\"Marriage\"].replace(0, 3, inplace=True) #3 = Other\n",
        "#Check outcome.\n",
        "#print(f'\"Host Age\" has discrete values of {df[\"Host Age\"].unique()}, {len(df[\"Host Age\"].unique())} values in total.')\n",
        "#print(f'Marriage has discrete values of {df[\"Marriage\"].unique()}, {len(df[\"Marriage\"].unique())} values in total.')\n",
        "#Categorical values.\n",
        "#category = ['Sex', \"Host Age\", 'Marriage','PayStat_April']\n",
        "#Create dataframe for each categorical feature.\n",
        "#sex = pd.get_dummies(df['Sex'], prefix = 'Sex')\n",
        "#education = pd.get_dummies(df[\"Host Age\"], prefix = \"Host Age\")\n",
        "#marriage = pd.get_dummies(df['Marriage'], prefix = 'Marriage')\n",
        "#september = pd.get_dummies(df['PayStat_September'], prefix = 'PayStat_September') august = pd.get_dummies(df['PayStat_August'], prefix = 'PayStat_August')\n",
        "#july = pd.get_dummies(df['PayStat_July'], prefix = 'PayStat_July')\n",
        "#Remove original features.\n",
        "#df = df.drop(category, axis = 1)\n",
        "#Add the new dataframes into the original dataframe.\n",
        "#df_tmp = [df, sex, education, marriage, september, august, july, june, may, april] df = pd.concat(df_tmp, axis = 1)"
      ],
      "metadata": {
        "id": "qxmlw3jNEHYw"
      },
      "execution_count": null,
      "outputs": []
    },
    {
      "cell_type": "markdown",
      "source": [
        "Check new features that were added.\n",
        "df.columns"
      ],
      "metadata": {
        "id": "zektxTc7EeRV"
      }
    },
    {
      "cell_type": "markdown",
      "source": [
        "# **Sampling Methods**"
      ],
      "metadata": {
        "id": "jYOdNcdqEmFS"
      }
    },
    {
      "cell_type": "code",
      "source": [
        " #Function to cluster dataframe and returned sampled dataframe.\n",
        "#def cluster(clusters, dataframe, fraction, replace):\n",
        "#Cluster dataframe.\n",
        "#kmeans = KMeans(n_clusters = clusters, random_state = 1906814).fit(dataframe); \n",
        "#dataframe['Cluster'] = kmeans.predict(dataframe)\n",
        "#Empty dataframe to store sampled data.\n",
        "#clusters_df = pd.DataFrame()\n",
        "#Sample each cluster and add it to the empty dataframe.\n",
        "#for i in range(clusters):\n",
        "#c = dataframe[dataframe.Cluster == i].copy(); \n",
        "#c = c.sample(frac = fraction, random_state = 1906814, replace = replace)\n",
        "#clusters_df = pd.concat([c, clusters_df])\n",
        "#Drop the Cluster column.\n",
        "#clusters_df.drop(['Cluster'], axis = 1, inplace = True) #Return sampled dataframe\n",
        "    #return clusters_df"
      ],
      "metadata": {
        "id": "i12SaqspEdWC"
      },
      "execution_count": null,
      "outputs": []
    },
    {
      "cell_type": "markdown",
      "source": [
        "we use the randome_state to getsame out come or result from  processing of same model . using the randome_state provide same result "
      ],
      "metadata": {
        "id": "ZPTBqFJNGsOs"
      }
    },
    {
      "cell_type": "markdown",
      "source": [
        "**Putting the unique features into a small datafram** "
      ],
      "metadata": {
        "id": "vNcwHoMKV44C"
      }
    },
    {
      "cell_type": "code",
      "source": [
        "small_df = newDf[['Host Gender',\"Host Age\", 'Size', 'Optimal Temperature' , 'Chromosome', 'Plasmids' , 'Contigs', \"Label\"]]\n",
        "small_df.iloc[1:]"
      ],
      "metadata": {
        "id": "XDJz4i_CV3sT"
      },
      "execution_count": null,
      "outputs": []
    },
    {
      "cell_type": "markdown",
      "source": [
        "## **Prepare Features**"
      ],
      "metadata": {
        "id": "tAOL46e_Ez1v"
      }
    },
    {
      "cell_type": "code",
      "source": [
        "#Store default feature.\n",
        "Y = df[\"Label\"]\n",
        "#Store the rest of the features.\n",
        "X = small_df. drop(\"Label\", axis = 1) \n",
        "#Check X and Y data types.\n",
        "print(type(X))\n",
        "print(type(Y))"
      ],
      "metadata": {
        "id": "-2zDZeD8E3x5"
      },
      "execution_count": null,
      "outputs": []
    },
    {
      "cell_type": "markdown",
      "source": [
        "**Note that we cannot use a dataset with NaN values for k-fold cross validation**"
      ],
      "metadata": {
        "id": "y3qkQ5KeNmDP"
      }
    },
    {
      "cell_type": "markdown",
      "source": [
        "## **Normalise Data**"
      ],
      "metadata": {
        "id": "LORQB1VgFD3C"
      }
    },
    {
      "cell_type": "code",
      "source": [
        "\n",
        " #Normalise X, input featurees.\n",
        "\n",
        "from sklearn import preprocessing\n",
        "\n",
        "preprocessing_data = preprocessing.normalize(X)\n",
        "print(preprocessing_dat)\n"
      ],
      "metadata": {
        "id": "A-u7hhFrFMOh"
      },
      "execution_count": null,
      "outputs": []
    },
    {
      "cell_type": "markdown",
      "source": [
        "# **Split the Dataset**"
      ],
      "metadata": {
        "id": "yYTFAjVmFSE8"
      }
    },
    {
      "cell_type": "markdown",
      "source": [
        "\n",
        "here is no best value for seed. It depends on the data\n",
        "#Split X and Y into testing and training set.\n",
        "X_train, X_test, Y_train, Y_test = train_test_split(X, Y, test_size=0.30, random_state = 10116) \n",
        "different random state then mean_squared_error will be different every time.\n",
        "in randomforest using the randome-state provide when building trees and the sampling of the features to consider when looking for the best split at each node."
      ],
      "metadata": {
        "id": "MGinS7flFUlu"
      }
    },
    {
      "cell_type": "code",
      "source": [
        "X_train, X_test, Y_train, Y_test = train_test_split(X, Y, test_size=0.30, random_state = 10116)\n"
      ],
      "metadata": {
        "id": "pqEWc2vV8X87"
      },
      "execution_count": null,
      "outputs": []
    },
    {
      "cell_type": "markdown",
      "source": [
        "# **Modelling / Classification**\n",
        "\n",
        "\n",
        "*  Build Model\n",
        "*  Create and Train Random Forest\n",
        "\n"
      ],
      "metadata": {
        "id": "9LgW-jBLFdYK"
      }
    },
    {
      "cell_type": "code",
      "source": [
        "from sklearn.ensemble import RandomForestClassifier\n",
        "from sklearn.tree import DecisionTreeClassifier\n",
        "from sklearn.ensemble import AdaBoostClassifier\n",
        "from sklearn.ensemble import GradientBoostingClassifier\n",
        "from sklearn import svm\n",
        "from sklearn import LogisticRegressionclassifier \n",
        "from sklearn.neural_network import MLPClassifier\n",
        "from sklearn.preprocessing import StandardScaler\n",
        "from sklearn.datasets import make_classification\n",
        " #Create RandomForestClassifier with default parameters.\n",
        "RF = RandomForestClassifier(random_state = 10116 )\n",
        " #Fit the training data into the model. \n",
        "RF.fit(X_train, Y_train)\n",
        "RandomForestClassifier(random_state=10116 )\n",
        " "
      ],
      "metadata": {
        "id": "MAo648FWF0Mv"
      },
      "execution_count": null,
      "outputs": []
    },
    {
      "cell_type": "markdown",
      "source": [
        "# **Make Predictions**"
      ],
      "metadata": {
        "id": "kWbTeGZIGGh7"
      }
    },
    {
      "cell_type": "code",
      "source": [
        " #Predict using testing set.\n",
        "rf_predict = rf.predict(X_test)\n",
        " #Prediction probabilities.\n",
        "rf_probs = rf.predict_proba(X_test)\n",
        "clf = RandomForestClassifier(max_depth=2, random_state=10116)\n",
        "clf.fit(X, y)\n",
        "RandomForestClassifier(...)\n",
        "print(clf.predict([[0, 0, 0, 0]]))\n",
        "[1]"
      ],
      "metadata": {
        "id": "mESxGrNMGQmw"
      },
      "execution_count": null,
      "outputs": []
    },
    {
      "cell_type": "code",
      "source": [
        "\n",
        "\n",
        "names = [\"Decision Tree\", \"Random Forest\", \"Neural Net\",\"SVM\" , \"AdaBoostClassifier\", \"GradientBoostingClassifier\" ]\n",
        "\n",
        "classifiers = [ DecisionTreeClassifier(),RandomForestClassifier() , MLPClassifier()]\n",
        "\n",
        "score = 0\n",
        "for name, clf in zip(names, classifiers):\n",
        "    if name == \"Decision Tree\":\n",
        "        clf = DecisionTreeClassifier(random_state=0)\n",
        "        grid_search = GridSearchCV(clf, param_grid=param_grid_DT)\n",
        "        grid_search.fit(X_train, y_train_TF)\n",
        "        if grid_search.best_score_ > score:\n",
        "            score = grid_search.best_score_\n",
        "            best_clf = clf\n",
        "    elif name == \"Random Forest\":\n",
        "        clf = RandomForestClassifier(random_state=0)\n",
        "        grid_search = GridSearchCV(clf, param_grid_RF)\n",
        "        grid_search.fit(X_train, y_train_TF)\n",
        "        if grid_search.best_score_ > score:\n",
        "            score = grid_search.best_score_\n",
        "            best_clf = clf\n",
        "\n",
        "    elif name == \"Neural Net\":\n",
        "        clf = MLPClassifier()\n",
        "        clf.fit(X_train, y_train_TF)\n",
        "        y_pred = clf.predict(X_test)\n",
        "        current_score = accuracy_score(y_test_TF, y_pred)\n",
        "        if current_score > score:\n",
        "            score = current_score\n",
        "            best_clf = clf\n",
        "\n",
        "    elif name == \"SVM\":\n",
        "        clf = SVM()\n",
        "        clf.fit(X_train, y_train_TF)\n",
        "        y_pred = clf.predict(X_test)\n",
        "        current_score = accuracy_score(y_test_TF, y_pred)\n",
        "        if current_score > score:\n",
        "            score = current_score\n",
        "            best_clf = clf\n",
        "\n",
        "\n",
        "pkl_filename = \"pickle_model.pkl\"  \n",
        "with open(pkl_filename, 'wb') as file:  \n",
        "    pickle.dump(best_clf, file)\n",
        "\n",
        "from sklearn.externals import joblib\n",
        "# Save to file in the current working directory\n",
        "joblib_file = \"joblib_model.pkl\"  \n",
        "joblib.dump(best_clf, joblib_file)\n",
        "\n",
        "print(\"best classifier: \", best_clf, \" Accuracy= \", score)"
      ],
      "metadata": {
        "id": "Jcd0FM27_b8u"
      },
      "execution_count": null,
      "outputs": []
    },
    {
      "cell_type": "markdown",
      "source": [
        "# **Results**\n",
        "Get the overall accuracy of the model."
      ],
      "metadata": {
        "id": "RCGPdmfiGUqq"
      }
    },
    {
      "cell_type": "code",
      "source": [
        " #Get model accuracy\n",
        "accuracy = accuracy_score(Y_test, rf_predict)\n",
        "#Print accuracy\n",
        "print(f'The accuracy of the Random Forest model is {np.round(accuracy * 100, 2)}%')"
      ],
      "metadata": {
        "id": "fjYTN_hUGkxC"
      },
      "execution_count": null,
      "outputs": []
    },
    {
      "cell_type": "markdown",
      "source": [
        "# **Evaluate Model**\n"
      ],
      "metadata": {
        "id": "4m5sDQXcGoYy"
      }
    },
    {
      "cell_type": "markdown",
      "source": [
        "#Show classification report.\n",
        "print(classification_report(Y_test, rf_predict))"
      ],
      "metadata": {
        "id": "j_aAqA0qGyC5"
      }
    },
    {
      "cell_type": "code",
      "source": [
        " #Create a heatmap for the confusion matrix\n",
        "heat_map = sns.heatmap(confusion_matrix(Y_test, rf_predict), annot = True, fmt = \"d\")"
      ],
      "metadata": {
        "id": "SzZ13zZUG5uC"
      },
      "execution_count": null,
      "outputs": []
    },
    {
      "cell_type": "markdown",
      "source": [
        "\n",
        "## **Results Analysis**\n",
        "# **Solution Improvement**\n",
        "**Tune Parameters**\n",
        "When building the Random Forest Classifier it can be given parameters and adjusting these pa- rameters can lead to improvement in performance."
      ],
      "metadata": {
        "id": "8wA7iaAvG-yr"
      }
    },
    {
      "cell_type": "code",
      "source": [
        "#  accuracy_list = []\n",
        "# for i in range(1, 1001):\n",
        "#     #Make random forest.\n",
        "# rf = RandomForestClassifier(random_state = 1906814, n_estimators = i)\n",
        "#  #Store default feature.\n",
        "# Y = df['Label']\n",
        "# #Store the rest of the features.\n",
        "# X = df.drop('Label', axis = 1)\n",
        "# #Normalize X, input features.\n",
        "# X = preprocessing.normalize(X)\n",
        "# #Split X and Y into testing and training set.\n",
        "# X_train, X_test, Y_train, Y_test = train_test_split(X, Y, test_size = 0.25, random_state =␣\n",
        "# 􏰀→1906814)\n",
        "# #Fit the training data into the model. rf.fit(X_train, Y_train)\n",
        "# #Predict using testing set.\n",
        "# rf_predict = rf.predict(X_test)\n",
        "# #Get model accuracy\n",
        "# accuracy = accuracy_score(Y_test, rf_predict) #Add accuracy to the list. accuracy_list.append(accuracy)\n",
        "# #Sort the list then get highest accuracy and number of estimators.\n",
        "# sort_list = sorted(accuracy_list, reverse = True)\n",
        "# estimators = accuracy_list.index(sort_list[0]) + 2\n",
        "# #Print\n",
        "# # print(\"Number of estimators: \" + str(estimators) + \" has highest accuracy of \" +␣\n",
        "# 􏰀→str(sort_list[0]) + \"%\")"
      ],
      "metadata": {
        "id": "89fhqPffHg5B"
      },
      "execution_count": null,
      "outputs": []
    },
    {
      "cell_type": "markdown",
      "source": [
        "## **Using Different Metrics for Evaluation**\n",
        "\n",
        "A function is created to easily predict the data and return the model’s accuracy."
      ],
      "metadata": {
        "id": "7_mLS1bgHsQU"
      }
    },
    {
      "cell_type": "code",
      "source": [
        "# from sklearn.metrics import mean_squared_error\n",
        "#Function to model the data.\n",
        "# def sampling(dataframe, testsize):\n",
        "# #Store default feature.\n",
        "# Y = dataframe['?????']\n",
        "# #Store the rest of the features.\n",
        "# X = dataframe.drop('???????', axis = 1)\n",
        "# #Normalize X, input features.\n",
        "# X = preprocessing.normalize(X)\n",
        "# #Split X and Y into testing and training set.\n",
        "# X_train, X_test, Y_train, Y_test = train_test_split(X, Y, test_size = testsize, random_state␣\n",
        "# 􏰀→= 1906814)\n",
        "# #Fit the training data into the model. rf.fit(X_train, Y_train)\n",
        "# #Predict using testing set.\n",
        "# rf_predict = rf.predict(X_test)\n",
        "# #Get model accuracy\n",
        "# accuracy = accuracy_score(Y_test, rf_predict) #Return accuracy\n",
        "\n",
        "# return np.round(accuracy * 100, 2)"
      ],
      "metadata": {
        "id": "jJhyELtuH6cQ"
      },
      "execution_count": null,
      "outputs": []
    },
    {
      "cell_type": "markdown",
      "source": [
        "# **Undersampling**\n",
        "\n",
        "As discussed before undersampling will reduce the size of the no default records to match the default records. However, the cost of this method is that data is lost. The optimal number of clusters will be found, so that a higher accuracy for the model will be found. Range from 2 to 31 cluster size will be tested since the no default data is large."
      ],
      "metadata": {
        "id": "c7WkGrmlH-zY"
      }
    },
    {
      "cell_type": "code",
      "source": [
        "#  accuracy_list = []\n",
        "# for i in range(2, 31):\n",
        "#     #Make two dataframes, one each classification\n",
        "# default = df[df.???????? == 1].copy(); noDefault = df[df.?????????/ == 0].copy()\n",
        "#     #Sample the no default data and combine the two dataframes.\n",
        "# noDefault = cluster(i, noDefault, 0.33, False) undersampled_df = pd.concat([default, noDefault])\n",
        "#  #Add accuracy to the list. accuracy_list.append(sampling(undersampled_df, 0.25))\n",
        "# #Sort the list then get highest accuracy and number of clusters for it.\n",
        "# sort_list = sorted(accuracy_list, reverse = True)\n",
        "# number_of_clusters = accuracy_list.index(sort_list[0]) + 2\n",
        "# #Print\n",
        "# print(\"Number of cluster: \" + str(number_of_clusters) + \" has highest accuracy of \" +␣\n",
        "# 􏰀→str(sort_list[0]) + \"%\")"
      ],
      "metadata": {
        "id": "_poMsNokII9v"
      },
      "execution_count": null,
      "outputs": []
    },
    {
      "cell_type": "markdown",
      "source": [
        "# **Oversampling**\n",
        "For oversampling the size of the default data will be increased to closely match the size of no default, ratio 1:1. Oversampling has the benefit of not losing data unlike undersampling, however the data will just be duplicated. The default data will be duplicat 2 times, so the size will be 3 times the original."
      ],
      "metadata": {
        "id": "Bm12FU3TIl84"
      }
    },
    {
      "cell_type": "code",
      "source": [
        " #Print accuracy\n",
        "print(f'The accuracy of the Random Forest model with oversampling is {sampling(oversampled_df, 0. 􏰀→25)}%')"
      ],
      "metadata": {
        "id": "cQExRvDDJB_E"
      },
      "execution_count": null,
      "outputs": []
    },
    {
      "cell_type": "markdown",
      "source": [
        "According to the results oversampling did improve the model, accuracy increased by 13%. There- fore in this scenario oversampling is better for the model’s accuracy than undersampling. Balanc- ing the data with oversampling is best."
      ],
      "metadata": {
        "id": "ziAZGAQ7JHOz"
      }
    },
    {
      "cell_type": "markdown",
      "source": [
        "## **Combination**\n",
        "\n",
        "A combination of undersampling and oversampling may yield better results compared to only using oversampling. Again cluster size of 2 to 31 will used to find the best possible accuracy. The aim will be to keep dataset size the same (30000 records) while trying to have 1:1 ratio of classification."
      ],
      "metadata": {
        "id": "XRmS0n80JNHO"
      }
    },
    {
      "cell_type": "code",
      "source": [
        "#  accuracy_list = []\n",
        "# for i in range(2, 31):\n",
        "#     #Make two dataframes, one each classification\n",
        "# default = df[df.Default_October == 1].copy(); 􏰀→copy()\n",
        "#     #Sample the no default default data.\n",
        "# noDefault = df[df.Default_October == 0].\n",
        "# noDefault = cluster(i, noDefault, 0.66, False) #Sample the no default default data.\n",
        "# oversample = cluster(i, default, 0.5, False) default = pd.concat([default, default, oversample]) default.drop(['Cluster'], axis = 1, inplace = True) #Combine dataframes.\n",
        "# combination_df = pd.concat([default, noDefault]) #Add accuracy to the list. accuracy_list.append(sampling(combination_df, 0.25))\n",
        "# #Sort the list then get highest accuracy and number of clusters for it.\n",
        "# sort_list = sorted(accuracy_list, reverse = True)\n",
        "# number_of_clusters = accuracy_list.index(sort_list[0]) + 2\n",
        "# #Print\n",
        "# print(\"Number of cluster: \" + str(number_of_clusters) + \" has highest accuracy of \" +␣\n",
        "# 􏰀→str(sort_list[0]) + \"%\")"
      ],
      "metadata": {
        "id": "mdmtjg8LJa_M"
      },
      "execution_count": null,
      "outputs": []
    },
    {
      "cell_type": "markdown",
      "source": [
        "# **Compare With Different Models**\n",
        "Even thought Random Forest is considered one of the best models, it necessarily might not be the best for this particular dataset. Therefore other classifiers will be built to compare with our current model. The some of the chosen classifiers are similar to the ones used in the peer-reviewed paper and the others are common classifiers. They will be compared not through accuracy but their f1-score and a ROC plot"
      ],
      "metadata": {
        "id": "MFdhRiFwJgqe"
      }
    },
    {
      "cell_type": "code",
      "source": [
        "#  #Store the classifiers\n",
        "# classifiers = [MLPClassifier(max_iter = 1000, random_state = 1906814),\n",
        "#                DecisionTreeClassifier(random_state = 1906814),\n",
        "#                AdaBoostClassifier(random_state = 1906814),\n",
        "#                GaussianNB(),\n",
        "#                rf\n",
        "# ]\n",
        "# #Store the model results into a dataframe.\n",
        "# results = pd.DataFrame(columns=['classifiers','fpr','tpr','auc']) #Train the models and store the results.\n",
        "# for cls in classifiers:\n",
        "# #Fit the data\n",
        "# model = cls.fit(X_train, Y_train)\n",
        "# #Get probabilites.\n",
        "# probability = model.predict_proba(X_test)[::,1]\n",
        "# #Set the columns.\n",
        "# fpr, tpr, thres = roc_curve(Y_test, probability)\n",
        "# #Get the area under the curve.\n",
        "# auc = roc_auc_score(Y_test, probability)\n",
        "# #Add the results to dataframe.\n",
        "# results = results.append({'classifiers':cls.__class__.__name__,\n",
        "# #Set names\n",
        "#   'fpr':fpr,\n",
        "#   'tpr':tpr,\n",
        "#   'auc':auc\n",
        "# }, ignore_index = True)\n",
        "# results.set_index('classifiers', inplace = True) #Create the plot\n",
        "# fig = plt.figure(figsize = (8, 6))\n",
        "# #Loop the results and plot the performance.\n",
        "# for i in results.index:\n",
        "#     plt.plot(results.loc[i]['fpr'],\n",
        "#              results.loc[i]['tpr'],\n",
        "# label=\"{}, AUC={:.3f}\".format(i, results.loc[i]['auc'])) #Plot the random model.\n",
        "# plt.plot([0,1], [0,1], color='orange', linestyle='--') #False Positive.\n",
        "# plt.xticks(np.arange(0.0, 1.1, step=0.1)) plt.xlabel(\"False Positive Rate\", fontsize=15)\n",
        "# #True Positive.\n",
        "# plt.yticks(np.arange(0.0, 1.1, step=0.1)) plt.ylabel(\"True Positive Rate\", fontsize=15) #ROC Curve.\n",
        "# plt.title('ROC Curve Analysis', fontsize=12) plt.legend(prop={'size':13}, loc='lower right') #Show the plot.\n",
        "plt.show()"
      ],
      "metadata": {
        "id": "WUsgRSIoJu6q"
      },
      "execution_count": null,
      "outputs": []
    },
    {
      "cell_type": "markdown",
      "source": [
        "According to the graph the AdaBoost classifier is the best model to use for this dataset. It is only slightly better than the Random Forest classifier, however with some tuning the Random Forest can perform better."
      ],
      "metadata": {
        "id": "NG_V-fW0J0IY"
      }
    },
    {
      "cell_type": "markdown",
      "source": [
        "## **Change the Partitioning of the Data**\n",
        "\n",
        "Another way to improve the model is to use K fold cross-validation to get the average accuracy of the model. This method guarantees that all iterations of a split are tested. From 10% to 33% testing data split will be tested. The results will show the optimal training / testing size for the data, with over and under fitting taken into consideration."
      ],
      "metadata": {
        "id": "6Ex9FaBTJ6ip"
      }
    },
    {
      "cell_type": "code",
      "source": [
        "#  for i in range(3, 11):\n",
        "#     kfold = KFold(n_splits = i)\n",
        "#     score = cross_val_score(rf, X, Y, cv = kfold, scoring = \"accuracy\").mean()\n",
        "#     print(f'Using {100 / i}% for testing, mean accuracy: {round(score * 100, 2)}%')"
      ],
      "metadata": {
        "id": "7LMDcHrkKCel"
      },
      "execution_count": null,
      "outputs": []
    },
    {
      "cell_type": "markdown",
      "source": [
        "The results show that from 10% to 33% testing size has around 81% accuracy. If the testing size is reduced further from 10% the model will have a High Variance (overfitting) and increasing the testing size above 33% will result in the model having a High Bias (Overfitting)."
      ],
      "metadata": {
        "id": "D-LJLPIaKIJI"
      }
    },
    {
      "cell_type": "markdown",
      "source": [
        "## **Final Model**\n",
        "\n",
        "based on most of the literature reviews , need to test various methods to improve the Random Forest’s performance. The following shows the best version of the model for this dataset."
      ],
      "metadata": {
        "id": "9wVMjo1KKL4h"
      }
    },
    {
      "cell_type": "code",
      "source": [
        "corona = pd.read_excel(\"/content/20221202covid19infectionsurveydatasetsengland (1).xlsx\")\n",
        "corona.head()"
      ],
      "metadata": {
        "id": "JJ7WMHAN9gMh"
      },
      "execution_count": null,
      "outputs": []
    },
    {
      "cell_type": "code",
      "source": [],
      "metadata": {
        "id": "mFGgT4nOR04R"
      },
      "execution_count": null,
      "outputs": []
    }
  ]
}